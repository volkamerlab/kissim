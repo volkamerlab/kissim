{
 "cells": [
  {
   "cell_type": "markdown",
   "metadata": {},
   "source": [
    "# Encoding\n",
    "\n",
    "Structures from the [KLIFS](klifs.net) database can be encoded as `kissim` fingerprint. This kinase fingerprint is based on the KLIFS pocket alignment, which defines 85 pocket residues for all kinase structures. This enables a residue-by-residue comparison without a computationally expensive alignment step.\n",
    "The pocket fingerprint consists of 85 concatenated residue fingerprints, each encoding a residue’s spatial and physicochemical properties (see Figure 1). The spatial properties describe the residue’s position in relation to the kinase pocket centroid and important kinase subpockets, i.e. the hinge region, the DFG region, and the front pocket. The physicochemical properties encompass for each residue its size and pharmacophoric features, solvent exposure and side chain orientation.\n",
    "\n",
    "![The `kissim` fingerprint composition.](../_static/kissim_fingerprint.png)\n",
    "\n",
    "_Figure 1_: The `kissim` fingerprint.\n"
   ]
  },
  {
   "cell_type": "code",
   "execution_count": 1,
   "metadata": {},
   "outputs": [],
   "source": [
    "from pathlib import Path"
   ]
  },
  {
   "cell_type": "code",
   "execution_count": 2,
   "metadata": {},
   "outputs": [],
   "source": [
    "# Load path to test data\n",
    "from kissim.dataset.test import PATH as PATH_TEST_DATA"
   ]
  },
  {
   "cell_type": "markdown",
   "metadata": {},
   "source": [
    "Set up remote and local KLIFS session using the `opencadd.databases.klifs` module."
   ]
  },
  {
   "cell_type": "code",
   "execution_count": 3,
   "metadata": {},
   "outputs": [],
   "source": [
    "from opencadd.databases.klifs import setup_remote, setup_local\n",
    "\n",
    "KLIFS_REMOTE = setup_remote()\n",
    "KLIFS_LOCAL = setup_local(PATH_TEST_DATA / \"KLIFS_download\")"
   ]
  },
  {
   "cell_type": "markdown",
   "metadata": {},
   "source": [
    "## Encode one structure"
   ]
  },
  {
   "cell_type": "code",
   "execution_count": 4,
   "metadata": {},
   "outputs": [
    {
     "data": {
      "application/vnd.jupyter.widget-view+json": {
       "model_id": "fc1ff88ad6024329a987f43e2d61fb99",
       "version_major": 2,
       "version_minor": 0
      },
      "text/plain": []
     },
     "metadata": {},
     "output_type": "display_data"
    }
   ],
   "source": [
    "from kissim.encoding import Fingerprint"
   ]
  },
  {
   "cell_type": "code",
   "execution_count": 5,
   "metadata": {},
   "outputs": [
    {
     "data": {
      "text/plain": [
       "\u001b[0;31mSignature:\u001b[0m \u001b[0mFingerprint\u001b[0m\u001b[0;34m.\u001b[0m\u001b[0mfrom_structure_klifs_id\u001b[0m\u001b[0;34m(\u001b[0m\u001b[0mstructure_klifs_id\u001b[0m\u001b[0;34m,\u001b[0m \u001b[0mklifs_session\u001b[0m\u001b[0;34m=\u001b[0m\u001b[0;32mNone\u001b[0m\u001b[0;34m)\u001b[0m\u001b[0;34m\u001b[0m\u001b[0;34m\u001b[0m\u001b[0m\n",
       "\u001b[0;31mDocstring:\u001b[0m\n",
       "Calculate fingerprint for a KLIFS structure (by structure KLIFS ID).\n",
       "\n",
       "Parameters\n",
       "----------\n",
       "structure_klifs_id : int\n",
       "    Structure KLIFS ID.\n",
       "klifs_session : opencadd.databases.klifs.session.Session or None\n",
       "    Local or remote KLIFS session.\n",
       "    If None (default), set up remote KLIFS session.\n",
       "\n",
       "Returns\n",
       "-------\n",
       "kissim.encoding.Fingerprint\n",
       "    Fingerprint.\n",
       "\u001b[0;31mFile:\u001b[0m      ~/Documents/GitHub/kissim/kissim/encoding/fingerprint.py\n",
       "\u001b[0;31mType:\u001b[0m      method\n"
      ]
     },
     "metadata": {},
     "output_type": "display_data"
    }
   ],
   "source": [
    "# flake8-noqa-cell\n",
    "Fingerprint.from_structure_klifs_id?"
   ]
  },
  {
   "cell_type": "markdown",
   "metadata": {},
   "source": [
    "### Generate fingerprint from remote KLIFS session"
   ]
  },
  {
   "cell_type": "code",
   "execution_count": 6,
   "metadata": {},
   "outputs": [],
   "source": [
    "fingerprint = Fingerprint.from_structure_klifs_id(109)"
   ]
  },
  {
   "cell_type": "code",
   "execution_count": 7,
   "metadata": {},
   "outputs": [],
   "source": [
    "fingerprint = Fingerprint.from_structure_klifs_id(109, KLIFS_REMOTE)"
   ]
  },
  {
   "cell_type": "markdown",
   "metadata": {},
   "source": [
    "### Generate fingerprint from local KLIFS session"
   ]
  },
  {
   "cell_type": "code",
   "execution_count": 8,
   "metadata": {},
   "outputs": [],
   "source": [
    "fingerprint = Fingerprint.from_structure_klifs_id(109, KLIFS_LOCAL)"
   ]
  },
  {
   "cell_type": "markdown",
   "metadata": {},
   "source": [
    "### Explore `Fingerprint` object"
   ]
  },
  {
   "cell_type": "code",
   "execution_count": 9,
   "metadata": {},
   "outputs": [
    {
     "data": {
      "text/html": [
       "<div>\n",
       "<style scoped>\n",
       "    .dataframe tbody tr th:only-of-type {\n",
       "        vertical-align: middle;\n",
       "    }\n",
       "\n",
       "    .dataframe tbody tr th {\n",
       "        vertical-align: top;\n",
       "    }\n",
       "\n",
       "    .dataframe thead th {\n",
       "        text-align: right;\n",
       "    }\n",
       "</style>\n",
       "<table border=\"1\" class=\"dataframe\">\n",
       "  <thead>\n",
       "    <tr style=\"text-align: right;\">\n",
       "      <th></th>\n",
       "      <th>size</th>\n",
       "      <th>hbd</th>\n",
       "      <th>hba</th>\n",
       "      <th>charge</th>\n",
       "      <th>aromatic</th>\n",
       "      <th>aliphatic</th>\n",
       "      <th>sco</th>\n",
       "      <th>exposure</th>\n",
       "    </tr>\n",
       "    <tr>\n",
       "      <th>residue.ix</th>\n",
       "      <th></th>\n",
       "      <th></th>\n",
       "      <th></th>\n",
       "      <th></th>\n",
       "      <th></th>\n",
       "      <th></th>\n",
       "      <th></th>\n",
       "      <th></th>\n",
       "    </tr>\n",
       "  </thead>\n",
       "  <tbody>\n",
       "    <tr>\n",
       "      <th>1</th>\n",
       "      <td>2.0</td>\n",
       "      <td>1.0</td>\n",
       "      <td>1.0</td>\n",
       "      <td>0.0</td>\n",
       "      <td>1.0</td>\n",
       "      <td>0.0</td>\n",
       "      <td>2.0</td>\n",
       "      <td>3.0</td>\n",
       "    </tr>\n",
       "    <tr>\n",
       "      <th>2</th>\n",
       "      <td>2.0</td>\n",
       "      <td>1.0</td>\n",
       "      <td>0.0</td>\n",
       "      <td>1.0</td>\n",
       "      <td>0.0</td>\n",
       "      <td>0.0</td>\n",
       "      <td>3.0</td>\n",
       "      <td>3.0</td>\n",
       "    </tr>\n",
       "    <tr>\n",
       "      <th>3</th>\n",
       "      <td>2.0</td>\n",
       "      <td>0.0</td>\n",
       "      <td>0.0</td>\n",
       "      <td>0.0</td>\n",
       "      <td>0.0</td>\n",
       "      <td>1.0</td>\n",
       "      <td>2.0</td>\n",
       "      <td>1.0</td>\n",
       "    </tr>\n",
       "    <tr>\n",
       "      <th>4</th>\n",
       "      <td>1.0</td>\n",
       "      <td>0.0</td>\n",
       "      <td>0.0</td>\n",
       "      <td>0.0</td>\n",
       "      <td>0.0</td>\n",
       "      <td>0.0</td>\n",
       "      <td>NaN</td>\n",
       "      <td>1.0</td>\n",
       "    </tr>\n",
       "    <tr>\n",
       "      <th>5</th>\n",
       "      <td>1.0</td>\n",
       "      <td>0.0</td>\n",
       "      <td>0.0</td>\n",
       "      <td>0.0</td>\n",
       "      <td>0.0</td>\n",
       "      <td>0.0</td>\n",
       "      <td>NaN</td>\n",
       "      <td>3.0</td>\n",
       "    </tr>\n",
       "    <tr>\n",
       "      <th>...</th>\n",
       "      <td>...</td>\n",
       "      <td>...</td>\n",
       "      <td>...</td>\n",
       "      <td>...</td>\n",
       "      <td>...</td>\n",
       "      <td>...</td>\n",
       "      <td>...</td>\n",
       "      <td>...</td>\n",
       "    </tr>\n",
       "    <tr>\n",
       "      <th>81</th>\n",
       "      <td>2.0</td>\n",
       "      <td>0.0</td>\n",
       "      <td>2.0</td>\n",
       "      <td>-1.0</td>\n",
       "      <td>0.0</td>\n",
       "      <td>0.0</td>\n",
       "      <td>3.0</td>\n",
       "      <td>3.0</td>\n",
       "    </tr>\n",
       "    <tr>\n",
       "      <th>82</th>\n",
       "      <td>3.0</td>\n",
       "      <td>0.0</td>\n",
       "      <td>0.0</td>\n",
       "      <td>0.0</td>\n",
       "      <td>1.0</td>\n",
       "      <td>0.0</td>\n",
       "      <td>2.0</td>\n",
       "      <td>2.0</td>\n",
       "    </tr>\n",
       "    <tr>\n",
       "      <th>83</th>\n",
       "      <td>1.0</td>\n",
       "      <td>0.0</td>\n",
       "      <td>0.0</td>\n",
       "      <td>0.0</td>\n",
       "      <td>0.0</td>\n",
       "      <td>0.0</td>\n",
       "      <td>NaN</td>\n",
       "      <td>3.0</td>\n",
       "    </tr>\n",
       "    <tr>\n",
       "      <th>84</th>\n",
       "      <td>2.0</td>\n",
       "      <td>0.0</td>\n",
       "      <td>0.0</td>\n",
       "      <td>0.0</td>\n",
       "      <td>0.0</td>\n",
       "      <td>1.0</td>\n",
       "      <td>2.0</td>\n",
       "      <td>1.0</td>\n",
       "    </tr>\n",
       "    <tr>\n",
       "      <th>85</th>\n",
       "      <td>1.0</td>\n",
       "      <td>1.0</td>\n",
       "      <td>1.0</td>\n",
       "      <td>0.0</td>\n",
       "      <td>0.0</td>\n",
       "      <td>0.0</td>\n",
       "      <td>3.0</td>\n",
       "      <td>3.0</td>\n",
       "    </tr>\n",
       "  </tbody>\n",
       "</table>\n",
       "<p>85 rows × 8 columns</p>\n",
       "</div>"
      ],
      "text/plain": [
       "            size  hbd  hba  charge  aromatic  aliphatic  sco  exposure\n",
       "residue.ix                                                            \n",
       "1            2.0  1.0  1.0     0.0       1.0        0.0  2.0       3.0\n",
       "2            2.0  1.0  0.0     1.0       0.0        0.0  3.0       3.0\n",
       "3            2.0  0.0  0.0     0.0       0.0        1.0  2.0       1.0\n",
       "4            1.0  0.0  0.0     0.0       0.0        0.0  NaN       1.0\n",
       "5            1.0  0.0  0.0     0.0       0.0        0.0  NaN       3.0\n",
       "...          ...  ...  ...     ...       ...        ...  ...       ...\n",
       "81           2.0  0.0  2.0    -1.0       0.0        0.0  3.0       3.0\n",
       "82           3.0  0.0  0.0     0.0       1.0        0.0  2.0       2.0\n",
       "83           1.0  0.0  0.0     0.0       0.0        0.0  NaN       3.0\n",
       "84           2.0  0.0  0.0     0.0       0.0        1.0  2.0       1.0\n",
       "85           1.0  1.0  1.0     0.0       0.0        0.0  3.0       3.0\n",
       "\n",
       "[85 rows x 8 columns]"
      ]
     },
     "execution_count": 9,
     "metadata": {},
     "output_type": "execute_result"
    }
   ],
   "source": [
    "fingerprint.physicochemical"
   ]
  },
  {
   "cell_type": "code",
   "execution_count": 10,
   "metadata": {},
   "outputs": [
    {
     "data": {
      "image/png": "[encoded data removed]",
      "text/plain": [
       "<Figure size 432x288 with 9 Axes>"
      ]
     },
     "metadata": {
      "needs_background": "light"
     },
     "output_type": "display_data"
    }
   ],
   "source": [
    "fingerprint.physicochemical.hist();"
   ]
  },
  {
   "cell_type": "code",
   "execution_count": 11,
   "metadata": {},
   "outputs": [
    {
     "data": {
      "text/html": [
       "<div>\n",
       "<style scoped>\n",
       "    .dataframe tbody tr th:only-of-type {\n",
       "        vertical-align: middle;\n",
       "    }\n",
       "\n",
       "    .dataframe tbody tr th {\n",
       "        vertical-align: top;\n",
       "    }\n",
       "\n",
       "    .dataframe thead th {\n",
       "        text-align: right;\n",
       "    }\n",
       "</style>\n",
       "<table border=\"1\" class=\"dataframe\">\n",
       "  <thead>\n",
       "    <tr style=\"text-align: right;\">\n",
       "      <th></th>\n",
       "      <th>hinge_region</th>\n",
       "      <th>dfg_region</th>\n",
       "      <th>front_pocket</th>\n",
       "      <th>center</th>\n",
       "    </tr>\n",
       "    <tr>\n",
       "      <th>residue.ix</th>\n",
       "      <th></th>\n",
       "      <th></th>\n",
       "      <th></th>\n",
       "      <th></th>\n",
       "    </tr>\n",
       "  </thead>\n",
       "  <tbody>\n",
       "    <tr>\n",
       "      <th>1</th>\n",
       "      <td>13.638825</td>\n",
       "      <td>18.151474</td>\n",
       "      <td>14.976771</td>\n",
       "      <td>17.175079</td>\n",
       "    </tr>\n",
       "    <tr>\n",
       "      <th>2</th>\n",
       "      <td>11.992615</td>\n",
       "      <td>15.466840</td>\n",
       "      <td>12.175196</td>\n",
       "      <td>14.700109</td>\n",
       "    </tr>\n",
       "    <tr>\n",
       "      <th>3</th>\n",
       "      <td>9.609095</td>\n",
       "      <td>14.682669</td>\n",
       "      <td>9.020685</td>\n",
       "      <td>12.176826</td>\n",
       "    </tr>\n",
       "    <tr>\n",
       "      <th>4</th>\n",
       "      <td>11.448428</td>\n",
       "      <td>15.794301</td>\n",
       "      <td>8.619237</td>\n",
       "      <td>12.807139</td>\n",
       "    </tr>\n",
       "    <tr>\n",
       "      <th>5</th>\n",
       "      <td>14.557948</td>\n",
       "      <td>17.282959</td>\n",
       "      <td>11.822055</td>\n",
       "      <td>15.756100</td>\n",
       "    </tr>\n",
       "    <tr>\n",
       "      <th>...</th>\n",
       "      <td>...</td>\n",
       "      <td>...</td>\n",
       "      <td>...</td>\n",
       "      <td>...</td>\n",
       "    </tr>\n",
       "    <tr>\n",
       "      <th>81</th>\n",
       "      <td>9.265642</td>\n",
       "      <td>7.738092</td>\n",
       "      <td>6.713789</td>\n",
       "      <td>4.406957</td>\n",
       "    </tr>\n",
       "    <tr>\n",
       "      <th>82</th>\n",
       "      <td>8.524595</td>\n",
       "      <td>6.593623</td>\n",
       "      <td>5.218254</td>\n",
       "      <td>4.892906</td>\n",
       "    </tr>\n",
       "    <tr>\n",
       "      <th>83</th>\n",
       "      <td>11.939774</td>\n",
       "      <td>6.238186</td>\n",
       "      <td>8.907651</td>\n",
       "      <td>8.120236</td>\n",
       "    </tr>\n",
       "    <tr>\n",
       "      <th>84</th>\n",
       "      <td>13.661263</td>\n",
       "      <td>9.324866</td>\n",
       "      <td>9.374503</td>\n",
       "      <td>10.433297</td>\n",
       "    </tr>\n",
       "    <tr>\n",
       "      <th>85</th>\n",
       "      <td>17.328062</td>\n",
       "      <td>12.035613</td>\n",
       "      <td>12.813744</td>\n",
       "      <td>13.699333</td>\n",
       "    </tr>\n",
       "  </tbody>\n",
       "</table>\n",
       "<p>85 rows × 4 columns</p>\n",
       "</div>"
      ],
      "text/plain": [
       "            hinge_region  dfg_region  front_pocket     center\n",
       "residue.ix                                                   \n",
       "1              13.638825   18.151474     14.976771  17.175079\n",
       "2              11.992615   15.466840     12.175196  14.700109\n",
       "3               9.609095   14.682669      9.020685  12.176826\n",
       "4              11.448428   15.794301      8.619237  12.807139\n",
       "5              14.557948   17.282959     11.822055  15.756100\n",
       "...                  ...         ...           ...        ...\n",
       "81              9.265642    7.738092      6.713789   4.406957\n",
       "82              8.524595    6.593623      5.218254   4.892906\n",
       "83             11.939774    6.238186      8.907651   8.120236\n",
       "84             13.661263    9.324866      9.374503  10.433297\n",
       "85             17.328062   12.035613     12.813744  13.699333\n",
       "\n",
       "[85 rows x 4 columns]"
      ]
     },
     "execution_count": 11,
     "metadata": {},
     "output_type": "execute_result"
    }
   ],
   "source": [
    "fingerprint.distances"
   ]
  },
  {
   "cell_type": "code",
   "execution_count": 12,
   "metadata": {},
   "outputs": [
    {
     "data": {
      "image/png": "[encoded data removed]",
      "text/plain": [
       "<Figure size 432x288 with 4 Axes>"
      ]
     },
     "metadata": {
      "needs_background": "light"
     },
     "output_type": "display_data"
    }
   ],
   "source": [
    "fingerprint.distances.hist();"
   ]
  },
  {
   "cell_type": "code",
   "execution_count": 13,
   "metadata": {},
   "outputs": [
    {
     "data": {
      "text/html": [
       "<div>\n",
       "<style scoped>\n",
       "    .dataframe tbody tr th:only-of-type {\n",
       "        vertical-align: middle;\n",
       "    }\n",
       "\n",
       "    .dataframe tbody tr th {\n",
       "        vertical-align: top;\n",
       "    }\n",
       "\n",
       "    .dataframe thead th {\n",
       "        text-align: right;\n",
       "    }\n",
       "</style>\n",
       "<table border=\"1\" class=\"dataframe\">\n",
       "  <thead>\n",
       "    <tr style=\"text-align: right;\">\n",
       "      <th></th>\n",
       "      <th>hinge_region</th>\n",
       "      <th>dfg_region</th>\n",
       "      <th>front_pocket</th>\n",
       "      <th>center</th>\n",
       "    </tr>\n",
       "    <tr>\n",
       "      <th>moments</th>\n",
       "      <th></th>\n",
       "      <th></th>\n",
       "      <th></th>\n",
       "      <th></th>\n",
       "    </tr>\n",
       "  </thead>\n",
       "  <tbody>\n",
       "    <tr>\n",
       "      <th>1</th>\n",
       "      <td>12.744562</td>\n",
       "      <td>13.951375</td>\n",
       "      <td>12.748791</td>\n",
       "      <td>12.093494</td>\n",
       "    </tr>\n",
       "    <tr>\n",
       "      <th>2</th>\n",
       "      <td>4.411861</td>\n",
       "      <td>4.842253</td>\n",
       "      <td>4.286650</td>\n",
       "      <td>3.403159</td>\n",
       "    </tr>\n",
       "    <tr>\n",
       "      <th>3</th>\n",
       "      <td>2.920387</td>\n",
       "      <td>3.377544</td>\n",
       "      <td>3.075991</td>\n",
       "      <td>1.621391</td>\n",
       "    </tr>\n",
       "  </tbody>\n",
       "</table>\n",
       "</div>"
      ],
      "text/plain": [
       "         hinge_region  dfg_region  front_pocket     center\n",
       "moments                                                   \n",
       "1           12.744562   13.951375     12.748791  12.093494\n",
       "2            4.411861    4.842253      4.286650   3.403159\n",
       "3            2.920387    3.377544      3.075991   1.621391"
      ]
     },
     "execution_count": 13,
     "metadata": {},
     "output_type": "execute_result"
    }
   ],
   "source": [
    "fingerprint.moments"
   ]
  },
  {
   "cell_type": "markdown",
   "metadata": {},
   "source": [
    "You can select which feature types you would like to extract from the fingerprint: bits for physicochemical, distances, and/or moments features.\n",
    "\n",
    "| physicochemical | distances | moments | fingerprint length |\n",
    "|-----------------|-----------|---------|--------------------|\n",
    "| True            | True      | True    | 1032               |\n",
    "| True            | True      | False   | 1020               |\n",
    "| True            | False     | True    | 692                |\n",
    "| True            | False     | False   | 680                |\n",
    "| False           | True      | True    | 352                |\n",
    "| False           | True      | False   | 340                |\n",
    "| False           | False     | True    | 12                 |\n",
    "| False           | False     | False   | 0                  |"
   ]
  },
  {
   "cell_type": "code",
   "execution_count": 14,
   "metadata": {},
   "outputs": [],
   "source": [
    "fingerprint_array = fingerprint.values_array(\n",
    "    physicochemical=True, spatial_distances=True, spatial_moments=True\n",
    ")"
   ]
  },
  {
   "cell_type": "code",
   "execution_count": 15,
   "metadata": {},
   "outputs": [
    {
     "data": {
      "text/html": [
       "<div>\n",
       "<style scoped>\n",
       "    .dataframe tbody tr th:only-of-type {\n",
       "        vertical-align: middle;\n",
       "    }\n",
       "\n",
       "    .dataframe tbody tr th {\n",
       "        vertical-align: top;\n",
       "    }\n",
       "\n",
       "    .dataframe thead th {\n",
       "        text-align: right;\n",
       "    }\n",
       "</style>\n",
       "<table border=\"1\" class=\"dataframe\">\n",
       "  <thead>\n",
       "    <tr style=\"text-align: right;\">\n",
       "      <th></th>\n",
       "      <th>residue.id</th>\n",
       "      <th>residue.ix</th>\n",
       "    </tr>\n",
       "  </thead>\n",
       "  <tbody>\n",
       "    <tr>\n",
       "      <th>0</th>\n",
       "      <td>292</td>\n",
       "      <td>1</td>\n",
       "    </tr>\n",
       "    <tr>\n",
       "      <th>1</th>\n",
       "      <td>293</td>\n",
       "      <td>2</td>\n",
       "    </tr>\n",
       "    <tr>\n",
       "      <th>2</th>\n",
       "      <td>294</td>\n",
       "      <td>3</td>\n",
       "    </tr>\n",
       "    <tr>\n",
       "      <th>3</th>\n",
       "      <td>295</td>\n",
       "      <td>4</td>\n",
       "    </tr>\n",
       "    <tr>\n",
       "      <th>4</th>\n",
       "      <td>296</td>\n",
       "      <td>5</td>\n",
       "    </tr>\n",
       "    <tr>\n",
       "      <th>...</th>\n",
       "      <td>...</td>\n",
       "      <td>...</td>\n",
       "    </tr>\n",
       "    <tr>\n",
       "      <th>80</th>\n",
       "      <td>427</td>\n",
       "      <td>81</td>\n",
       "    </tr>\n",
       "    <tr>\n",
       "      <th>81</th>\n",
       "      <td>428</td>\n",
       "      <td>82</td>\n",
       "    </tr>\n",
       "    <tr>\n",
       "      <th>82</th>\n",
       "      <td>429</td>\n",
       "      <td>83</td>\n",
       "    </tr>\n",
       "    <tr>\n",
       "      <th>83</th>\n",
       "      <td>430</td>\n",
       "      <td>84</td>\n",
       "    </tr>\n",
       "    <tr>\n",
       "      <th>84</th>\n",
       "      <td>431</td>\n",
       "      <td>85</td>\n",
       "    </tr>\n",
       "  </tbody>\n",
       "</table>\n",
       "<p>85 rows × 2 columns</p>\n",
       "</div>"
      ],
      "text/plain": [
       "    residue.id  residue.ix\n",
       "0          292           1\n",
       "1          293           2\n",
       "2          294           3\n",
       "3          295           4\n",
       "4          296           5\n",
       "..         ...         ...\n",
       "80         427          81\n",
       "81         428          82\n",
       "82         429          83\n",
       "83         430          84\n",
       "84         431          85\n",
       "\n",
       "[85 rows x 2 columns]"
      ]
     },
     "execution_count": 15,
     "metadata": {},
     "output_type": "execute_result"
    }
   ],
   "source": [
    "import pandas as pd\n",
    "\n",
    "pd.DataFrame({\"residue.id\": fingerprint.residue_ids, \"residue.ix\": fingerprint.residue_ixs})"
   ]
  },
  {
   "cell_type": "markdown",
   "metadata": {},
   "source": [
    "### Normalize fingerprint"
   ]
  },
  {
   "cell_type": "code",
   "execution_count": 16,
   "metadata": {},
   "outputs": [],
   "source": [
    "from kissim.encoding import FingerprintNormalized\n",
    "\n",
    "fingerprint_normalized = FingerprintNormalized.from_fingerprint(fingerprint)"
   ]
  },
  {
   "cell_type": "code",
   "execution_count": 17,
   "metadata": {},
   "outputs": [
    {
     "data": {
      "image/png": "[encoded data removed]",
      "text/plain": [
       "<Figure size 432x288 with 9 Axes>"
      ]
     },
     "metadata": {
      "needs_background": "light"
     },
     "output_type": "display_data"
    }
   ],
   "source": [
    "fingerprint_normalized.physicochemical.hist();"
   ]
  },
  {
   "cell_type": "code",
   "execution_count": 18,
   "metadata": {},
   "outputs": [
    {
     "data": {
      "image/png": "[encoded data removed]",
      "text/plain": [
       "<Figure size 432x288 with 4 Axes>"
      ]
     },
     "metadata": {
      "needs_background": "light"
     },
     "output_type": "display_data"
    }
   ],
   "source": [
    "fingerprint_normalized.distances.hist();"
   ]
  },
  {
   "cell_type": "markdown",
   "metadata": {},
   "source": [
    "### Save/load fingerprints"
   ]
  },
  {
   "cell_type": "code",
   "execution_count": 19,
   "metadata": {},
   "outputs": [],
   "source": [
    "json_filepath = Path(\"fingerprint.json\")"
   ]
  },
  {
   "cell_type": "code",
   "execution_count": 20,
   "metadata": {},
   "outputs": [
    {
     "data": {
      "text/plain": [
       "<kissim.encoding.fingerprint.Fingerprint at 0x7fc84c6caeb0>"
      ]
     },
     "execution_count": 20,
     "metadata": {},
     "output_type": "execute_result"
    }
   ],
   "source": [
    "fingerprint.to_json(json_filepath)\n",
    "Fingerprint.from_json(json_filepath)"
   ]
  },
  {
   "cell_type": "code",
   "execution_count": 21,
   "metadata": {},
   "outputs": [],
   "source": [
    "json_filepath.unlink()"
   ]
  },
  {
   "cell_type": "markdown",
   "metadata": {},
   "source": [
    "## Encode multiple structures"
   ]
  },
  {
   "cell_type": "code",
   "execution_count": 22,
   "metadata": {},
   "outputs": [],
   "source": [
    "from kissim.encoding import FingerprintGenerator"
   ]
  },
  {
   "cell_type": "code",
   "execution_count": 23,
   "metadata": {},
   "outputs": [
    {
     "data": {
      "text/plain": [
       "\u001b[0;31mSignature:\u001b[0m\n",
       "\u001b[0mFingerprintGenerator\u001b[0m\u001b[0;34m.\u001b[0m\u001b[0mfrom_structure_klifs_ids\u001b[0m\u001b[0;34m(\u001b[0m\u001b[0;34m\u001b[0m\n",
       "\u001b[0;34m\u001b[0m    \u001b[0mstructure_klifs_ids\u001b[0m\u001b[0;34m,\u001b[0m\u001b[0;34m\u001b[0m\n",
       "\u001b[0;34m\u001b[0m    \u001b[0mklifs_session\u001b[0m\u001b[0;34m=\u001b[0m\u001b[0;32mNone\u001b[0m\u001b[0;34m,\u001b[0m\u001b[0;34m\u001b[0m\n",
       "\u001b[0;34m\u001b[0m    \u001b[0mn_cores\u001b[0m\u001b[0;34m=\u001b[0m\u001b[0;36m1\u001b[0m\u001b[0;34m,\u001b[0m\u001b[0;34m\u001b[0m\n",
       "\u001b[0;34m\u001b[0m\u001b[0;34m)\u001b[0m\u001b[0;34m\u001b[0m\u001b[0;34m\u001b[0m\u001b[0m\n",
       "\u001b[0;31mDocstring:\u001b[0m\n",
       "Calculate fingerprints for one or more KLIFS structures (by structure KLIFS IDs).\n",
       "\n",
       "Parameters\n",
       "----------\n",
       "structure_klifs_id : int\n",
       "    Input structure KLIFS ID (output fingerprints may contain less IDs because some\n",
       "    structures could not be encoded).\n",
       "klifs_session : opencadd.databases.klifs.session.Session\n",
       "    Local or remote KLIFS session.\n",
       "n_cores : int or None\n",
       "    Number of cores to be used for fingerprint generation as defined by the user.\n",
       "\n",
       "Returns\n",
       "-------\n",
       "kissim.encoding.fingerprint_generator\n",
       "    Fingerprint generator object containing fingerprints.\n",
       "\u001b[0;31mFile:\u001b[0m      ~/Documents/GitHub/kissim/kissim/encoding/fingerprint_generator.py\n",
       "\u001b[0;31mType:\u001b[0m      method\n"
      ]
     },
     "metadata": {},
     "output_type": "display_data"
    }
   ],
   "source": [
    "# flake8-noqa-cell\n",
    "FingerprintGenerator.from_structure_klifs_ids?"
   ]
  },
  {
   "cell_type": "markdown",
   "metadata": {},
   "source": [
    "### Select structure KLIFS IDs"
   ]
  },
  {
   "cell_type": "code",
   "execution_count": 24,
   "metadata": {},
   "outputs": [],
   "source": [
    "structure_klifs_ids = [109, 118, 12347, 1641, 3833, 9122]"
   ]
  },
  {
   "cell_type": "markdown",
   "metadata": {},
   "source": [
    "### Generate fingerprints from remote KLIFS session"
   ]
  },
  {
   "cell_type": "code",
   "execution_count": 25,
   "metadata": {},
   "outputs": [],
   "source": [
    "fingerprint_generator = FingerprintGenerator.from_structure_klifs_ids(\n",
    "    structure_klifs_ids=structure_klifs_ids, klifs_session=KLIFS_REMOTE, n_cores=2\n",
    ")"
   ]
  },
  {
   "cell_type": "markdown",
   "metadata": {},
   "source": [
    "### Generate fingerprints from local KLIFS session"
   ]
  },
  {
   "cell_type": "code",
   "execution_count": 26,
   "metadata": {},
   "outputs": [],
   "source": [
    "fingerprint_generator = FingerprintGenerator.from_structure_klifs_ids(\n",
    "    structure_klifs_ids=structure_klifs_ids, klifs_session=KLIFS_LOCAL, n_cores=2\n",
    ")"
   ]
  },
  {
   "cell_type": "markdown",
   "metadata": {},
   "source": [
    "### Save/load fingerprints"
   ]
  },
  {
   "cell_type": "code",
   "execution_count": 27,
   "metadata": {},
   "outputs": [],
   "source": [
    "json_filepath = Path(\"fingerprints.json\")"
   ]
  },
  {
   "cell_type": "code",
   "execution_count": 28,
   "metadata": {},
   "outputs": [
    {
     "data": {
      "text/plain": [
       "<kissim.encoding.fingerprint_generator.FingerprintGenerator at 0x7fc8440a2eb0>"
      ]
     },
     "execution_count": 28,
     "metadata": {},
     "output_type": "execute_result"
    }
   ],
   "source": [
    "fingerprint_generator.to_json(json_filepath)\n",
    "FingerprintGenerator.from_json(json_filepath)"
   ]
  },
  {
   "cell_type": "code",
   "execution_count": 29,
   "metadata": {},
   "outputs": [],
   "source": [
    "json_filepath.unlink()"
   ]
  },
  {
   "cell_type": "markdown",
   "metadata": {},
   "source": [
    "## Calculate individual features"
   ]
  },
  {
   "cell_type": "markdown",
   "metadata": {},
   "source": [
    "### Load pocket"
   ]
  },
  {
   "cell_type": "code",
   "execution_count": 30,
   "metadata": {},
   "outputs": [],
   "source": [
    "from kissim.io import PocketBioPython, PocketDataFrame\n",
    "\n",
    "pocket_bp = PocketBioPython.from_structure_klifs_id(12347)\n",
    "pocket_df = PocketDataFrame.from_structure_klifs_id(12347)"
   ]
  },
  {
   "cell_type": "markdown",
   "metadata": {},
   "source": [
    "### SiteAlign features\n",
    "\n",
    "![The `kissim` fingerprint composition.](../_static/kissim_fingerprint_sitealign.png)\n",
    "\n",
    "_Figure 2_: The SiteAlign feature bits of the `kissim` fingerprint.\n",
    "\n",
    "Select one of the SiteAlign features:\n",
    "\n",
    "- `\"hba\"`: Hydrogen bond acceptor feature\n",
    "- `\"hbd\"`: Hydrogen bond donor feature\n",
    "- `\"size\"`: Size feature\n",
    "- `\"charge\"`: Charge feature\n",
    "- `\"aliphatic\"`: Aliphatic feature\n",
    "- `\"aromatic\"`: Aromatic feature"
   ]
  },
  {
   "cell_type": "code",
   "execution_count": 31,
   "metadata": {},
   "outputs": [],
   "source": [
    "from kissim.encoding.features import SiteAlignFeature\n",
    "\n",
    "feature_sitealign = SiteAlignFeature.from_pocket(pocket_bp, feature_name=\"hba\")"
   ]
  },
  {
   "cell_type": "code",
   "execution_count": 32,
   "metadata": {},
   "outputs": [
    {
     "name": "stdout",
     "output_type": "stream",
     "text": [
      "Number of bits:  85\n",
      "1.0 0.0 0.0 nan nan nan nan 0.0 0.0 1.0 0.0 1.0 0.0 0.0 0.0 0.0 0.0 0.0 0.0 0.0 0.0 0.0 1.0 2.0 0.0 0.0 0.0 0.0 0.0 0.0 1.0 0.0 0.0 1.0 0.0 0.0 0.0 0.0 0.0 0.0 1.0 0.0 0.0 0.0 1.0 1.0 0.0 0.0 2.0 0.0 1.0 1.0 0.0 1.0 1.0 1.0 0.0 1.0 0.0 1.0 0.0 1.0 0.0 0.0 1.0 0.0 0.0 1.0 0.0 2.0 0.0 0.0 1.0 1.0 1.0 0.0 0.0 0.0 0.0 0.0 2.0 0.0 nan nan nan\n"
     ]
    }
   ],
   "source": [
    "print(\"Number of bits: \", len(feature_sitealign.values))\n",
    "print(*feature_sitealign.values)"
   ]
  },
  {
   "cell_type": "code",
   "execution_count": 33,
   "metadata": {},
   "outputs": [
    {
     "data": {
      "text/html": [
       "<div>\n",
       "<style scoped>\n",
       "    .dataframe tbody tr th:only-of-type {\n",
       "        vertical-align: middle;\n",
       "    }\n",
       "\n",
       "    .dataframe tbody tr th {\n",
       "        vertical-align: top;\n",
       "    }\n",
       "\n",
       "    .dataframe thead th {\n",
       "        text-align: right;\n",
       "    }\n",
       "</style>\n",
       "<table border=\"1\" class=\"dataframe\">\n",
       "  <thead>\n",
       "    <tr style=\"text-align: right;\">\n",
       "      <th></th>\n",
       "      <th>residue.id</th>\n",
       "      <th>residue.name</th>\n",
       "      <th>sitealign.category</th>\n",
       "    </tr>\n",
       "    <tr>\n",
       "      <th>residue.ix</th>\n",
       "      <th></th>\n",
       "      <th></th>\n",
       "      <th></th>\n",
       "    </tr>\n",
       "  </thead>\n",
       "  <tbody>\n",
       "    <tr>\n",
       "      <th>1</th>\n",
       "      <td>461</td>\n",
       "      <td>GLN</td>\n",
       "      <td>1</td>\n",
       "    </tr>\n",
       "    <tr>\n",
       "      <th>2</th>\n",
       "      <td>462</td>\n",
       "      <td>ARG</td>\n",
       "      <td>0</td>\n",
       "    </tr>\n",
       "    <tr>\n",
       "      <th>3</th>\n",
       "      <td>463</td>\n",
       "      <td>ILE</td>\n",
       "      <td>0</td>\n",
       "    </tr>\n",
       "    <tr>\n",
       "      <th>4</th>\n",
       "      <td>&lt;NA&gt;</td>\n",
       "      <td>None</td>\n",
       "      <td>&lt;NA&gt;</td>\n",
       "    </tr>\n",
       "    <tr>\n",
       "      <th>5</th>\n",
       "      <td>&lt;NA&gt;</td>\n",
       "      <td>None</td>\n",
       "      <td>&lt;NA&gt;</td>\n",
       "    </tr>\n",
       "    <tr>\n",
       "      <th>...</th>\n",
       "      <td>...</td>\n",
       "      <td>...</td>\n",
       "      <td>...</td>\n",
       "    </tr>\n",
       "    <tr>\n",
       "      <th>81</th>\n",
       "      <td>594</td>\n",
       "      <td>ASP</td>\n",
       "      <td>2</td>\n",
       "    </tr>\n",
       "    <tr>\n",
       "      <th>82</th>\n",
       "      <td>595</td>\n",
       "      <td>PHE</td>\n",
       "      <td>0</td>\n",
       "    </tr>\n",
       "    <tr>\n",
       "      <th>83</th>\n",
       "      <td>&lt;NA&gt;</td>\n",
       "      <td>None</td>\n",
       "      <td>&lt;NA&gt;</td>\n",
       "    </tr>\n",
       "    <tr>\n",
       "      <th>84</th>\n",
       "      <td>&lt;NA&gt;</td>\n",
       "      <td>None</td>\n",
       "      <td>&lt;NA&gt;</td>\n",
       "    </tr>\n",
       "    <tr>\n",
       "      <th>85</th>\n",
       "      <td>&lt;NA&gt;</td>\n",
       "      <td>None</td>\n",
       "      <td>&lt;NA&gt;</td>\n",
       "    </tr>\n",
       "  </tbody>\n",
       "</table>\n",
       "<p>85 rows × 3 columns</p>\n",
       "</div>"
      ],
      "text/plain": [
       "            residue.id residue.name  sitealign.category\n",
       "residue.ix                                             \n",
       "1                  461          GLN                   1\n",
       "2                  462          ARG                   0\n",
       "3                  463          ILE                   0\n",
       "4                 <NA>         None                <NA>\n",
       "5                 <NA>         None                <NA>\n",
       "...                ...          ...                 ...\n",
       "81                 594          ASP                   2\n",
       "82                 595          PHE                   0\n",
       "83                <NA>         None                <NA>\n",
       "84                <NA>         None                <NA>\n",
       "85                <NA>         None                <NA>\n",
       "\n",
       "[85 rows x 3 columns]"
      ]
     },
     "execution_count": 33,
     "metadata": {},
     "output_type": "execute_result"
    }
   ],
   "source": [
    "feature_sitealign.details"
   ]
  },
  {
   "cell_type": "markdown",
   "metadata": {},
   "source": [
    "### Side chain orientation\n",
    "\n",
    "![The `kissim` fingerprint composition.](../_static/kissim_fingerprint_sco.png)\n",
    "\n",
    "_Figure 3_: The side chain orientation feature bits of the `kissim` fingerprint."
   ]
  },
  {
   "cell_type": "code",
   "execution_count": 34,
   "metadata": {},
   "outputs": [],
   "source": [
    "from kissim.encoding.features import SideChainOrientationFeature\n",
    "\n",
    "feature_sco = SideChainOrientationFeature.from_pocket(pocket_bp)"
   ]
  },
  {
   "cell_type": "code",
   "execution_count": 35,
   "metadata": {},
   "outputs": [
    {
     "name": "stdout",
     "output_type": "stream",
     "text": [
      "Number of bits:  85\n",
      "2.0 nan nan nan nan nan nan 3.0 nan 3.0 2.0 nan nan 3.0 1.0 3.0 nan nan nan 2.0 2.0 nan 3.0 nan 3.0 nan 2.0 nan nan 3.0 1.0 3.0 3.0 3.0 3.0 1.0 3.0 3.0 3.0 nan 3.0 3.0 2.0 3.0 1.0 2.0 3.0 1.0 nan nan 3.0 3.0 3.0 3.0 3.0 2.0 nan 2.0 1.0 2.0 1.0 2.0 3.0 2.0 3.0 2.0 3.0 1.0 3.0 2.0 3.0 2.0 nan 3.0 2.0 3.0 3.0 3.0 3.0 nan 3.0 2.0 nan nan nan\n"
     ]
    }
   ],
   "source": [
    "print(\"Number of bits: \", len(feature_sco.values))\n",
    "print(*feature_sco.values)"
   ]
  },
  {
   "cell_type": "code",
   "execution_count": 36,
   "metadata": {},
   "outputs": [
    {
     "data": {
      "text/html": [
       "<div>\n",
       "<style scoped>\n",
       "    .dataframe tbody tr th:only-of-type {\n",
       "        vertical-align: middle;\n",
       "    }\n",
       "\n",
       "    .dataframe tbody tr th {\n",
       "        vertical-align: top;\n",
       "    }\n",
       "\n",
       "    .dataframe thead th {\n",
       "        text-align: right;\n",
       "    }\n",
       "</style>\n",
       "<table border=\"1\" class=\"dataframe\">\n",
       "  <thead>\n",
       "    <tr style=\"text-align: right;\">\n",
       "      <th></th>\n",
       "      <th>residue.id</th>\n",
       "      <th>sco.category</th>\n",
       "      <th>sco.angle</th>\n",
       "      <th>ca.vector</th>\n",
       "      <th>sc.vector</th>\n",
       "      <th>pocket_center.vector</th>\n",
       "    </tr>\n",
       "    <tr>\n",
       "      <th>residue.ix</th>\n",
       "      <th></th>\n",
       "      <th></th>\n",
       "      <th></th>\n",
       "      <th></th>\n",
       "      <th></th>\n",
       "      <th></th>\n",
       "    </tr>\n",
       "  </thead>\n",
       "  <tbody>\n",
       "    <tr>\n",
       "      <th>1</th>\n",
       "      <td>461</td>\n",
       "      <td>2.0</td>\n",
       "      <td>84.436343</td>\n",
       "      <td>&lt;Vector 8.81, 16.81, 51.66&gt;</td>\n",
       "      <td>&lt;Vector 5.63, 14.81, 52.26&gt;</td>\n",
       "      <td>&lt;Vector 0.83, 21.62, 36.45&gt;</td>\n",
       "    </tr>\n",
       "    <tr>\n",
       "      <th>2</th>\n",
       "      <td>462</td>\n",
       "      <td>NaN</td>\n",
       "      <td>NaN</td>\n",
       "      <td>&lt;Vector 8.91, 14.91, 48.36&gt;</td>\n",
       "      <td>None</td>\n",
       "      <td>&lt;Vector 0.83, 21.62, 36.45&gt;</td>\n",
       "    </tr>\n",
       "    <tr>\n",
       "      <th>3</th>\n",
       "      <td>463</td>\n",
       "      <td>NaN</td>\n",
       "      <td>NaN</td>\n",
       "      <td>&lt;Vector 5.48, 13.77, 47.17&gt;</td>\n",
       "      <td>None</td>\n",
       "      <td>&lt;Vector 0.83, 21.62, 36.45&gt;</td>\n",
       "    </tr>\n",
       "    <tr>\n",
       "      <th>4</th>\n",
       "      <td>&lt;NA&gt;</td>\n",
       "      <td>NaN</td>\n",
       "      <td>NaN</td>\n",
       "      <td>None</td>\n",
       "      <td>None</td>\n",
       "      <td>&lt;Vector 0.83, 21.62, 36.45&gt;</td>\n",
       "    </tr>\n",
       "    <tr>\n",
       "      <th>5</th>\n",
       "      <td>&lt;NA&gt;</td>\n",
       "      <td>NaN</td>\n",
       "      <td>NaN</td>\n",
       "      <td>None</td>\n",
       "      <td>None</td>\n",
       "      <td>&lt;Vector 0.83, 21.62, 36.45&gt;</td>\n",
       "    </tr>\n",
       "    <tr>\n",
       "      <th>...</th>\n",
       "      <td>...</td>\n",
       "      <td>...</td>\n",
       "      <td>...</td>\n",
       "      <td>...</td>\n",
       "      <td>...</td>\n",
       "      <td>...</td>\n",
       "    </tr>\n",
       "    <tr>\n",
       "      <th>81</th>\n",
       "      <td>594</td>\n",
       "      <td>3.0</td>\n",
       "      <td>92.784985</td>\n",
       "      <td>&lt;Vector 1.83, 18.43, 34.14&gt;</td>\n",
       "      <td>&lt;Vector 1.72, 16.82, 36.09&gt;</td>\n",
       "      <td>&lt;Vector 0.83, 21.62, 36.45&gt;</td>\n",
       "    </tr>\n",
       "    <tr>\n",
       "      <th>82</th>\n",
       "      <td>595</td>\n",
       "      <td>2.0</td>\n",
       "      <td>59.266540</td>\n",
       "      <td>&lt;Vector 2.38, 19.71, 30.60&gt;</td>\n",
       "      <td>&lt;Vector 0.31, 24.33, 31.38&gt;</td>\n",
       "      <td>&lt;Vector 0.83, 21.62, 36.45&gt;</td>\n",
       "    </tr>\n",
       "    <tr>\n",
       "      <th>83</th>\n",
       "      <td>&lt;NA&gt;</td>\n",
       "      <td>NaN</td>\n",
       "      <td>NaN</td>\n",
       "      <td>None</td>\n",
       "      <td>None</td>\n",
       "      <td>&lt;Vector 0.83, 21.62, 36.45&gt;</td>\n",
       "    </tr>\n",
       "    <tr>\n",
       "      <th>84</th>\n",
       "      <td>&lt;NA&gt;</td>\n",
       "      <td>NaN</td>\n",
       "      <td>NaN</td>\n",
       "      <td>None</td>\n",
       "      <td>None</td>\n",
       "      <td>&lt;Vector 0.83, 21.62, 36.45&gt;</td>\n",
       "    </tr>\n",
       "    <tr>\n",
       "      <th>85</th>\n",
       "      <td>&lt;NA&gt;</td>\n",
       "      <td>NaN</td>\n",
       "      <td>NaN</td>\n",
       "      <td>None</td>\n",
       "      <td>None</td>\n",
       "      <td>&lt;Vector 0.83, 21.62, 36.45&gt;</td>\n",
       "    </tr>\n",
       "  </tbody>\n",
       "</table>\n",
       "<p>85 rows × 6 columns</p>\n",
       "</div>"
      ],
      "text/plain": [
       "            residue.id  sco.category  sco.angle                    ca.vector  \\\n",
       "residue.ix                                                                     \n",
       "1                  461           2.0  84.436343  <Vector 8.81, 16.81, 51.66>   \n",
       "2                  462           NaN        NaN  <Vector 8.91, 14.91, 48.36>   \n",
       "3                  463           NaN        NaN  <Vector 5.48, 13.77, 47.17>   \n",
       "4                 <NA>           NaN        NaN                         None   \n",
       "5                 <NA>           NaN        NaN                         None   \n",
       "...                ...           ...        ...                          ...   \n",
       "81                 594           3.0  92.784985  <Vector 1.83, 18.43, 34.14>   \n",
       "82                 595           2.0  59.266540  <Vector 2.38, 19.71, 30.60>   \n",
       "83                <NA>           NaN        NaN                         None   \n",
       "84                <NA>           NaN        NaN                         None   \n",
       "85                <NA>           NaN        NaN                         None   \n",
       "\n",
       "                              sc.vector         pocket_center.vector  \n",
       "residue.ix                                                            \n",
       "1           <Vector 5.63, 14.81, 52.26>  <Vector 0.83, 21.62, 36.45>  \n",
       "2                                  None  <Vector 0.83, 21.62, 36.45>  \n",
       "3                                  None  <Vector 0.83, 21.62, 36.45>  \n",
       "4                                  None  <Vector 0.83, 21.62, 36.45>  \n",
       "5                                  None  <Vector 0.83, 21.62, 36.45>  \n",
       "...                                 ...                          ...  \n",
       "81          <Vector 1.72, 16.82, 36.09>  <Vector 0.83, 21.62, 36.45>  \n",
       "82          <Vector 0.31, 24.33, 31.38>  <Vector 0.83, 21.62, 36.45>  \n",
       "83                                 None  <Vector 0.83, 21.62, 36.45>  \n",
       "84                                 None  <Vector 0.83, 21.62, 36.45>  \n",
       "85                                 None  <Vector 0.83, 21.62, 36.45>  \n",
       "\n",
       "[85 rows x 6 columns]"
      ]
     },
     "execution_count": 36,
     "metadata": {},
     "output_type": "execute_result"
    }
   ],
   "source": [
    "feature_sco.details"
   ]
  },
  {
   "cell_type": "markdown",
   "metadata": {},
   "source": [
    "### Exposure\n",
    "\n",
    "![The `kissim` fingerprint composition.](../_static/kissim_fingerprint_exposure.png)\n",
    "\n",
    "_Figure 4_: The solvent exposure feature bits of the `kissim` fingerprint."
   ]
  },
  {
   "cell_type": "code",
   "execution_count": 37,
   "metadata": {},
   "outputs": [],
   "source": [
    "from kissim.encoding.features import SolventExposureFeature\n",
    "\n",
    "feature_exposure = SolventExposureFeature.from_pocket(pocket_bp)"
   ]
  },
  {
   "cell_type": "code",
   "execution_count": 38,
   "metadata": {},
   "outputs": [
    {
     "name": "stdout",
     "output_type": "stream",
     "text": [
      "Number of bits:  85\n",
      "3.0 3.0 1.0 nan nan nan nan 3.0 1.0 2.0 3.0 2.0 3.0 1.0 3.0 2.0 3.0 2.0 3.0 2.0 1.0 3.0 3.0 2.0 1.0 3.0 1.0 1.0 3.0 3.0 1.0 3.0 3.0 2.0 3.0 2.0 3.0 2.0 3.0 3.0 3.0 1.0 3.0 2.0 3.0 3.0 3.0 1.0 3.0 1.0 3.0 3.0 1.0 3.0 3.0 1.0 1.0 2.0 2.0 2.0 1.0 1.0 2.0 1.0 3.0 1.0 3.0 1.0 3.0 3.0 1.0 3.0 2.0 3.0 2.0 1.0 3.0 2.0 2.0 3.0 2.0 1.0 nan nan nan\n"
     ]
    }
   ],
   "source": [
    "print(\"Number of bits: \", len(feature_exposure.values))\n",
    "print(*feature_exposure.values)"
   ]
  },
  {
   "cell_type": "code",
   "execution_count": 39,
   "metadata": {},
   "outputs": [
    {
     "data": {
      "text/html": [
       "<div>\n",
       "<style scoped>\n",
       "    .dataframe tbody tr th:only-of-type {\n",
       "        vertical-align: middle;\n",
       "    }\n",
       "\n",
       "    .dataframe tbody tr th {\n",
       "        vertical-align: top;\n",
       "    }\n",
       "\n",
       "    .dataframe thead th {\n",
       "        text-align: right;\n",
       "    }\n",
       "</style>\n",
       "<table border=\"1\" class=\"dataframe\">\n",
       "  <thead>\n",
       "    <tr style=\"text-align: right;\">\n",
       "      <th></th>\n",
       "      <th>residue.id</th>\n",
       "      <th>exposure.category</th>\n",
       "      <th>exposure.ratio</th>\n",
       "      <th>exposure.ratio_ca</th>\n",
       "      <th>exposure.ratio_cb</th>\n",
       "    </tr>\n",
       "    <tr>\n",
       "      <th>residue.ix</th>\n",
       "      <th></th>\n",
       "      <th></th>\n",
       "      <th></th>\n",
       "      <th></th>\n",
       "      <th></th>\n",
       "    </tr>\n",
       "  </thead>\n",
       "  <tbody>\n",
       "    <tr>\n",
       "      <th>1</th>\n",
       "      <td>461.0</td>\n",
       "      <td>3.0</td>\n",
       "      <td>0.875000</td>\n",
       "      <td>1.000000</td>\n",
       "      <td>0.875000</td>\n",
       "    </tr>\n",
       "    <tr>\n",
       "      <th>2</th>\n",
       "      <td>462.0</td>\n",
       "      <td>3.0</td>\n",
       "      <td>0.785714</td>\n",
       "      <td>0.500000</td>\n",
       "      <td>0.785714</td>\n",
       "    </tr>\n",
       "    <tr>\n",
       "      <th>3</th>\n",
       "      <td>463.0</td>\n",
       "      <td>1.0</td>\n",
       "      <td>0.312500</td>\n",
       "      <td>NaN</td>\n",
       "      <td>0.312500</td>\n",
       "    </tr>\n",
       "    <tr>\n",
       "      <th>4</th>\n",
       "      <td>NaN</td>\n",
       "      <td>NaN</td>\n",
       "      <td>NaN</td>\n",
       "      <td>NaN</td>\n",
       "      <td>NaN</td>\n",
       "    </tr>\n",
       "    <tr>\n",
       "      <th>5</th>\n",
       "      <td>NaN</td>\n",
       "      <td>NaN</td>\n",
       "      <td>NaN</td>\n",
       "      <td>NaN</td>\n",
       "      <td>NaN</td>\n",
       "    </tr>\n",
       "    <tr>\n",
       "      <th>...</th>\n",
       "      <td>...</td>\n",
       "      <td>...</td>\n",
       "      <td>...</td>\n",
       "      <td>...</td>\n",
       "      <td>...</td>\n",
       "    </tr>\n",
       "    <tr>\n",
       "      <th>81</th>\n",
       "      <td>594.0</td>\n",
       "      <td>2.0</td>\n",
       "      <td>0.518519</td>\n",
       "      <td>0.703704</td>\n",
       "      <td>0.518519</td>\n",
       "    </tr>\n",
       "    <tr>\n",
       "      <th>82</th>\n",
       "      <td>595.0</td>\n",
       "      <td>1.0</td>\n",
       "      <td>0.320000</td>\n",
       "      <td>NaN</td>\n",
       "      <td>0.320000</td>\n",
       "    </tr>\n",
       "    <tr>\n",
       "      <th>83</th>\n",
       "      <td>NaN</td>\n",
       "      <td>NaN</td>\n",
       "      <td>NaN</td>\n",
       "      <td>NaN</td>\n",
       "      <td>NaN</td>\n",
       "    </tr>\n",
       "    <tr>\n",
       "      <th>84</th>\n",
       "      <td>NaN</td>\n",
       "      <td>NaN</td>\n",
       "      <td>NaN</td>\n",
       "      <td>NaN</td>\n",
       "      <td>NaN</td>\n",
       "    </tr>\n",
       "    <tr>\n",
       "      <th>85</th>\n",
       "      <td>NaN</td>\n",
       "      <td>NaN</td>\n",
       "      <td>NaN</td>\n",
       "      <td>NaN</td>\n",
       "      <td>NaN</td>\n",
       "    </tr>\n",
       "  </tbody>\n",
       "</table>\n",
       "<p>85 rows × 5 columns</p>\n",
       "</div>"
      ],
      "text/plain": [
       "            residue.id  exposure.category  exposure.ratio  exposure.ratio_ca  \\\n",
       "residue.ix                                                                     \n",
       "1                461.0                3.0        0.875000           1.000000   \n",
       "2                462.0                3.0        0.785714           0.500000   \n",
       "3                463.0                1.0        0.312500                NaN   \n",
       "4                  NaN                NaN             NaN                NaN   \n",
       "5                  NaN                NaN             NaN                NaN   \n",
       "...                ...                ...             ...                ...   \n",
       "81               594.0                2.0        0.518519           0.703704   \n",
       "82               595.0                1.0        0.320000                NaN   \n",
       "83                 NaN                NaN             NaN                NaN   \n",
       "84                 NaN                NaN             NaN                NaN   \n",
       "85                 NaN                NaN             NaN                NaN   \n",
       "\n",
       "            exposure.ratio_cb  \n",
       "residue.ix                     \n",
       "1                    0.875000  \n",
       "2                    0.785714  \n",
       "3                    0.312500  \n",
       "4                         NaN  \n",
       "5                         NaN  \n",
       "...                       ...  \n",
       "81                   0.518519  \n",
       "82                   0.320000  \n",
       "83                        NaN  \n",
       "84                        NaN  \n",
       "85                        NaN  \n",
       "\n",
       "[85 rows x 5 columns]"
      ]
     },
     "execution_count": 39,
     "metadata": {},
     "output_type": "execute_result"
    }
   ],
   "source": [
    "feature_exposure.details"
   ]
  },
  {
   "cell_type": "markdown",
   "metadata": {},
   "source": [
    "### Subpocket distances\n",
    "\n",
    "![The `kissim` fingerprint composition.](../_static/kissim_fingerprint_subpockets.png)\n",
    "\n",
    "_Figure 5_: The spatial feature bits of the `kissim` fingerprint."
   ]
  },
  {
   "cell_type": "code",
   "execution_count": 40,
   "metadata": {},
   "outputs": [],
   "source": [
    "from kissim.encoding.features import SubpocketsFeature\n",
    "\n",
    "feature_subpockets = SubpocketsFeature.from_pocket(pocket_df)"
   ]
  },
  {
   "cell_type": "code",
   "execution_count": 41,
   "metadata": {},
   "outputs": [
    {
     "data": {
      "text/plain": [
       "{'hinge_region': [13.085004250208536, 4.6390448501167905, 2.3912455031818345],\n",
       " 'dfg_region': [14.305938842969063, 4.88461568697127, 3.310695450716709],\n",
       " 'front_pocket': [13.30385832908826, 4.084029450633254, 2.8948181398060013],\n",
       " 'center': [12.235948428129538, 3.483684294025381, -1.4928813986271416]}"
      ]
     },
     "execution_count": 41,
     "metadata": {},
     "output_type": "execute_result"
    }
   ],
   "source": [
    "feature_subpockets.values"
   ]
  },
  {
   "cell_type": "code",
   "execution_count": 42,
   "metadata": {},
   "outputs": [
    {
     "data": {
      "text/html": [
       "<div>\n",
       "<style scoped>\n",
       "    .dataframe tbody tr th:only-of-type {\n",
       "        vertical-align: middle;\n",
       "    }\n",
       "\n",
       "    .dataframe tbody tr th {\n",
       "        vertical-align: top;\n",
       "    }\n",
       "\n",
       "    .dataframe thead th {\n",
       "        text-align: right;\n",
       "    }\n",
       "</style>\n",
       "<table border=\"1\" class=\"dataframe\">\n",
       "  <thead>\n",
       "    <tr style=\"text-align: right;\">\n",
       "      <th></th>\n",
       "      <th>residue.id</th>\n",
       "      <th>hinge_region</th>\n",
       "      <th>dfg_region</th>\n",
       "      <th>front_pocket</th>\n",
       "      <th>center</th>\n",
       "    </tr>\n",
       "    <tr>\n",
       "      <th>residue.ix</th>\n",
       "      <th></th>\n",
       "      <th></th>\n",
       "      <th></th>\n",
       "      <th></th>\n",
       "      <th></th>\n",
       "    </tr>\n",
       "  </thead>\n",
       "  <tbody>\n",
       "    <tr>\n",
       "      <th>1</th>\n",
       "      <td>461</td>\n",
       "      <td>13.169870</td>\n",
       "      <td>18.206156</td>\n",
       "      <td>14.569412</td>\n",
       "      <td>17.831911</td>\n",
       "    </tr>\n",
       "    <tr>\n",
       "      <th>2</th>\n",
       "      <td>462</td>\n",
       "      <td>12.055552</td>\n",
       "      <td>15.556118</td>\n",
       "      <td>12.221359</td>\n",
       "      <td>15.876463</td>\n",
       "    </tr>\n",
       "    <tr>\n",
       "      <th>3</th>\n",
       "      <td>463</td>\n",
       "      <td>10.828905</td>\n",
       "      <td>15.211579</td>\n",
       "      <td>9.537408</td>\n",
       "      <td>14.079297</td>\n",
       "    </tr>\n",
       "    <tr>\n",
       "      <th>4</th>\n",
       "      <td>&lt;NA&gt;</td>\n",
       "      <td>NaN</td>\n",
       "      <td>NaN</td>\n",
       "      <td>NaN</td>\n",
       "      <td>NaN</td>\n",
       "    </tr>\n",
       "    <tr>\n",
       "      <th>5</th>\n",
       "      <td>&lt;NA&gt;</td>\n",
       "      <td>NaN</td>\n",
       "      <td>NaN</td>\n",
       "      <td>NaN</td>\n",
       "      <td>NaN</td>\n",
       "    </tr>\n",
       "    <tr>\n",
       "      <th>...</th>\n",
       "      <td>...</td>\n",
       "      <td>...</td>\n",
       "      <td>...</td>\n",
       "      <td>...</td>\n",
       "      <td>...</td>\n",
       "    </tr>\n",
       "    <tr>\n",
       "      <th>81</th>\n",
       "      <td>594</td>\n",
       "      <td>8.630239</td>\n",
       "      <td>6.924464</td>\n",
       "      <td>5.781793</td>\n",
       "      <td>4.057558</td>\n",
       "    </tr>\n",
       "    <tr>\n",
       "      <th>82</th>\n",
       "      <td>595</td>\n",
       "      <td>11.446905</td>\n",
       "      <td>6.909891</td>\n",
       "      <td>9.576426</td>\n",
       "      <td>6.348532</td>\n",
       "    </tr>\n",
       "    <tr>\n",
       "      <th>83</th>\n",
       "      <td>&lt;NA&gt;</td>\n",
       "      <td>NaN</td>\n",
       "      <td>NaN</td>\n",
       "      <td>NaN</td>\n",
       "      <td>NaN</td>\n",
       "    </tr>\n",
       "    <tr>\n",
       "      <th>84</th>\n",
       "      <td>&lt;NA&gt;</td>\n",
       "      <td>NaN</td>\n",
       "      <td>NaN</td>\n",
       "      <td>NaN</td>\n",
       "      <td>NaN</td>\n",
       "    </tr>\n",
       "    <tr>\n",
       "      <th>85</th>\n",
       "      <td>&lt;NA&gt;</td>\n",
       "      <td>NaN</td>\n",
       "      <td>NaN</td>\n",
       "      <td>NaN</td>\n",
       "      <td>NaN</td>\n",
       "    </tr>\n",
       "  </tbody>\n",
       "</table>\n",
       "<p>85 rows × 5 columns</p>\n",
       "</div>"
      ],
      "text/plain": [
       "            residue.id  hinge_region  dfg_region  front_pocket     center\n",
       "residue.ix                                                               \n",
       "1                  461     13.169870   18.206156     14.569412  17.831911\n",
       "2                  462     12.055552   15.556118     12.221359  15.876463\n",
       "3                  463     10.828905   15.211579      9.537408  14.079297\n",
       "4                 <NA>           NaN         NaN           NaN        NaN\n",
       "5                 <NA>           NaN         NaN           NaN        NaN\n",
       "...                ...           ...         ...           ...        ...\n",
       "81                 594      8.630239    6.924464      5.781793   4.057558\n",
       "82                 595     11.446905    6.909891      9.576426   6.348532\n",
       "83                <NA>           NaN         NaN           NaN        NaN\n",
       "84                <NA>           NaN         NaN           NaN        NaN\n",
       "85                <NA>           NaN         NaN           NaN        NaN\n",
       "\n",
       "[85 rows x 5 columns]"
      ]
     },
     "execution_count": 42,
     "metadata": {},
     "output_type": "execute_result"
    }
   ],
   "source": [
    "feature_subpockets.details[\"distances\"]"
   ]
  },
  {
   "cell_type": "code",
   "execution_count": 43,
   "metadata": {},
   "outputs": [
    {
     "data": {
      "text/html": [
       "<div>\n",
       "<style scoped>\n",
       "    .dataframe tbody tr th:only-of-type {\n",
       "        vertical-align: middle;\n",
       "    }\n",
       "\n",
       "    .dataframe tbody tr th {\n",
       "        vertical-align: top;\n",
       "    }\n",
       "\n",
       "    .dataframe thead th {\n",
       "        text-align: right;\n",
       "    }\n",
       "</style>\n",
       "<table border=\"1\" class=\"dataframe\">\n",
       "  <thead>\n",
       "    <tr style=\"text-align: right;\">\n",
       "      <th></th>\n",
       "      <th>hinge_region</th>\n",
       "      <th>dfg_region</th>\n",
       "      <th>front_pocket</th>\n",
       "      <th>center</th>\n",
       "    </tr>\n",
       "    <tr>\n",
       "      <th>moment</th>\n",
       "      <th></th>\n",
       "      <th></th>\n",
       "      <th></th>\n",
       "      <th></th>\n",
       "    </tr>\n",
       "  </thead>\n",
       "  <tbody>\n",
       "    <tr>\n",
       "      <th>1</th>\n",
       "      <td>13.085004</td>\n",
       "      <td>14.305939</td>\n",
       "      <td>13.303858</td>\n",
       "      <td>12.235948</td>\n",
       "    </tr>\n",
       "    <tr>\n",
       "      <th>2</th>\n",
       "      <td>4.639045</td>\n",
       "      <td>4.884616</td>\n",
       "      <td>4.084029</td>\n",
       "      <td>3.483684</td>\n",
       "    </tr>\n",
       "    <tr>\n",
       "      <th>3</th>\n",
       "      <td>2.391246</td>\n",
       "      <td>3.310695</td>\n",
       "      <td>2.894818</td>\n",
       "      <td>-1.492881</td>\n",
       "    </tr>\n",
       "  </tbody>\n",
       "</table>\n",
       "</div>"
      ],
      "text/plain": [
       "        hinge_region  dfg_region  front_pocket     center\n",
       "moment                                                   \n",
       "1          13.085004   14.305939     13.303858  12.235948\n",
       "2           4.639045    4.884616      4.084029   3.483684\n",
       "3           2.391246    3.310695      2.894818  -1.492881"
      ]
     },
     "execution_count": 43,
     "metadata": {},
     "output_type": "execute_result"
    }
   ],
   "source": [
    "feature_subpockets.details[\"moments\"]"
   ]
  }
 ],
 "metadata": {
  "kernelspec": {
   "display_name": "Python 3",
   "language": "python",
   "name": "python3"
  },
  "language_info": {
   "codemirror_mode": {
    "name": "ipython",
    "version": 3
   },
   "file_extension": ".py",
   "mimetype": "text/x-python",
   "name": "python",
   "nbconvert_exporter": "python",
   "pygments_lexer": "ipython3",
   "version": "3.9.5"
  },
  "toc-autonumbering": false
 },
 "nbformat": 4,
 "nbformat_minor": 4
}
