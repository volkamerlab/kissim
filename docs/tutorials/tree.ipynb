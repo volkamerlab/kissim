{
 "cells": [
  {
   "cell_type": "markdown",
   "metadata": {},
   "source": [
    "# Tree\n",
    "\n",
    "The `kissim.comparison.tree` module allows to a `kissim`-based kinase distance matrix into a clustered `kissim`-based kinome tree with mean distances assigned to each branch. Different clustering methods are enabled.\n",
    "\n",
    "This tree can be saved in the Newick format alongsite an annotation file mapping kinase names to their kinase groups and families. These files can be loaded into e.g. FigTree to visualize the `kissim`-based kinome tree."
   ]
  },
  {
   "cell_type": "markdown",
   "metadata": {},
   "source": [
    "## Generate tree"
   ]
  },
  {
   "cell_type": "markdown",
   "metadata": {},
   "source": [
    "- Input file: `kissim_matrix.csv`\n",
    "- Output file (optionally): `kissim.tree` and `kinase_annotations.csv`\n",
    "- Clustering method: `ward` (default), `complete`, `weighted`, `average`, `centroid`"
   ]
  },
  {
   "cell_type": "code",
   "execution_count": 1,
   "metadata": {},
   "outputs": [],
   "source": [
    "# Path to data\n",
    "from pathlib import Path\n",
    "\n",
    "HERE = Path(_dh[-1])  # noqa: F821\n",
    "DATA = HERE / \"../../kissim/tests/data/\""
   ]
  },
  {
   "cell_type": "markdown",
   "metadata": {},
   "source": [
    "### Python API\n",
    "\n",
    "```python\n",
    "from kissim.comparison import tree\n",
    "tree.from_file(kinase_matrix_path, tree_path, annotation_path, clustering_method)\n",
    "```"
   ]
  },
  {
   "cell_type": "code",
   "execution_count": 2,
   "metadata": {},
   "outputs": [
    {
     "data": {
      "application/vnd.jupyter.widget-view+json": {
       "model_id": "3b39a585e4d84fc49c68e5ad249c93a2",
       "version_major": 2,
       "version_minor": 0
      },
      "text/plain": []
     },
     "metadata": {},
     "output_type": "display_data"
    }
   ],
   "source": [
    "from kissim.comparison import tree"
   ]
  },
  {
   "cell_type": "code",
   "execution_count": 3,
   "metadata": {},
   "outputs": [],
   "source": [
    "tree.from_file(DATA / \"kinase_matrix.csv\", \"kissim.tree\", \"kinase_annotation.csv\", \"centroid\");"
   ]
  },
  {
   "cell_type": "markdown",
   "metadata": {},
   "source": [
    "### CLI\n",
    "\n",
    "```bash\n",
    "kissim tree -i kinase_matrix.csv -o kissim.tree -a kinase_annotation.csv -c ward\n",
    "```"
   ]
  },
  {
   "cell_type": "code",
   "execution_count": 4,
   "metadata": {},
   "outputs": [
    {
     "name": "stdout",
     "output_type": "stream",
     "text": [
      "INFO:kissim.comparison.tree:Reading kinase matrix from ../../kissim/tests/data/kinase_matrix.csv\n",
      "INFO:kissim.comparison.tree:Clustering (method: centroid) and calculating branch distances\n",
      "INFO:kissim.comparison.tree:Converting clustering to a Newick tree\n",
      "INFO:kissim.comparison.tree:Writing resulting tree to kissim.tree\n",
      "INFO:kissim.comparison.tree:Writing resulting kinase annotation to kinase_annotation.csv\n",
      "INFO:opencadd.databases.klifs.api:Set up remote session...\n",
      "INFO:opencadd.databases.klifs.api:Remote session is ready!\n"
     ]
    }
   ],
   "source": [
    "# flake8-noqa-cell-E501\n",
    "!kissim tree -i ../../kissim/tests/data/kinase_matrix.csv -o kissim.tree -a kinase_annotation.csv -c centroid"
   ]
  },
  {
   "cell_type": "code",
   "execution_count": 5,
   "metadata": {},
   "outputs": [],
   "source": [
    "# Clean up\n",
    "Path(\"kissim.tree\").unlink()\n",
    "Path(\"kinase_annotation.csv\").unlink()"
   ]
  },
  {
   "cell_type": "markdown",
   "metadata": {},
   "source": [
    "## Visualize tree"
   ]
  },
  {
   "cell_type": "markdown",
   "metadata": {},
   "source": [
    "### FigTree"
   ]
  },
  {
   "cell_type": "markdown",
   "metadata": {},
   "source": [
    "#### Resources\n",
    "\n",
    "This is a list of resources that are useful to get started with FigTree.\n",
    "\n",
    "- Website: http://tree.bio.ed.ac.uk/software/figtree/\n",
    "- GitHub: https://github.com/rambaut/figtree\n",
    "- Download: https://github.com/rambaut/figtree/releases\n",
    "- Tutorial videos:\n",
    "  - https://www.coursera.org/lecture/informatics/viewing-the-tree-in-figtree-QqGis\n",
    "  - https://www.youtube.com/watch?v=9jLvi5eksAw\n",
    "- Help with tip label coloring using annotations:\n",
    "  - https://groups.google.com/g/figtree-discuss/c/UR2rTvtIzcw\n",
    "  - https://github.com/rambaut/figtree/issues/53"
   ]
  },
  {
   "cell_type": "markdown",
   "metadata": {},
   "source": [
    "#### Download and usage under Linux\n",
    "\n",
    "- Download and unpack [tgz file](https://github.com/rambaut/figtree/releases/download/v1.4.4/FigTree_v1.4.4.tgz)\n",
    "- Read `FigTree_<your-version>/README.txt` > 3) INSTALLATION\n",
    "- Go to `FigTree_<your-version>/lib` and start FigTree with `java -Xms64m -Xmx512m -jar figtree.jar \"$@\"`"
   ]
  },
  {
   "cell_type": "markdown",
   "metadata": {},
   "source": [
    "#### Step-by-step guide to visualize `kissim` trees\n",
    "\n",
    "- File > Open > `kissim.tree` > Name label: \"Mean similarity\" or \"Mean distance\"\n",
    "- Selection mode: \"Node\"\n",
    "- Style the tree (left-side menu)\n",
    "  - Layout\n",
    "    - Polar tree layout (see middle button)\n",
    "    - Optionally: Angle range\n",
    "    - Optionally: Root angle\n",
    "  - Appearance\n",
    "    - Color by: \"Mean similarity\" or \"Mean distance\"\n",
    "    - Setup > Colours > Scheme > Colour Gradient (TODO: define colors)\n",
    "    - Setup > Tick \"Gradient\"\n",
    "    - Line weight: \"2\"\n",
    "- Tip Labels (tick!)\n",
    "- Legend (tick!)\n",
    "- Optionally: Node Labels (tick!)\n",
    "\n",
    "We can color the tip labels (kinase names) by their kinase groups in order to easily compare the structure-based clustering/tree (`kissim`) with the sequence-based clustering/tree (Manning).\n",
    "\n",
    "- Save kinase names and kinase groups (and other attributes) in a tab-separated CSV file `kinase_annotations.csv`. In the following example below, the `kinase.klifs_name` names must match with the tip labels.\n",
    "\n",
    "  ```\n",
    "  kinase.klifs_name\tkinase.group\tkinase.family\n",
    "  AAK1  Other\tNAK\n",
    "  ABL1\tTK\tAbl\n",
    "  ABL2\tTK\tAbl\n",
    "  ACK\tTK\tAck\n",
    "  ```\n",
    "- File > Import Annotations > `kinase_annotations.csv`\n",
    "- Tip Labels (ticked) > Colour by > \"kinase.group\"\n",
    "- That's it :)"
   ]
  }
 ],
 "metadata": {
  "kernelspec": {
   "display_name": "Python 3",
   "language": "python",
   "name": "python3"
  },
  "language_info": {
   "codemirror_mode": {
    "name": "ipython",
    "version": 3
   },
   "file_extension": ".py",
   "mimetype": "text/x-python",
   "name": "python",
   "nbconvert_exporter": "python",
   "pygments_lexer": "ipython3",
   "version": "3.8.6"
  }
 },
 "nbformat": 4,
 "nbformat_minor": 4
}
