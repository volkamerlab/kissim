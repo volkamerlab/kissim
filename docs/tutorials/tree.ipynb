{
 "cells": [
  {
   "cell_type": "markdown",
   "metadata": {},
   "source": [
    "# Tree\n",
    "\n",
    "The `kissim.comparison.tree` module allows to a `kissim`-based kinase distance matrix into a clustered `kissim`-based kinome tree with mean distances assigned to each branch. Different clustering methods are enabled.\n",
    "\n",
    "This tree can be saved in the Newick format alongsite an annotation file mapping kinase names to their kinase groups and families. These files can be loaded into e.g. FigTree to visualize the `kissim`-based kinome tree."
   ]
  },
  {
   "cell_type": "markdown",
   "metadata": {},
   "source": [
    "## Generate tree"
   ]
  },
  {
   "cell_type": "markdown",
   "metadata": {},
   "source": [
    "- Input file: `kissim_matrix.csv`\n",
    "- Output file (optionally): `kissim.tree` and `kinase_annotations.csv`\n",
    "- Clustering method: `ward` (default), `complete`, `weighted`, `average`, `centroid`"
   ]
  },
  {
   "cell_type": "code",
   "execution_count": 1,
   "metadata": {},
   "outputs": [],
   "source": [
    "from pathlib import Path"
   ]
  },
  {
   "cell_type": "code",
   "execution_count": 2,
   "metadata": {},
   "outputs": [],
   "source": [
    "# Load path to test data\n",
    "from kissim.dataset.test import PATH as PATH_TEST_DATA"
   ]
  },
  {
   "cell_type": "markdown",
   "metadata": {},
   "source": [
    "### Python API\n",
    "\n",
    "```python\n",
    "from kissim.comparison import tree\n",
    "tree.from_file(kinase_matrix_path, tree_path, annotation_path, clustering_method)\n",
    "```"
   ]
  },
  {
   "cell_type": "code",
   "execution_count": 3,
   "metadata": {},
   "outputs": [
    {
     "data": {
      "application/vnd.jupyter.widget-view+json": {
       "model_id": "7b639826a9d14928aca85f2eebda4636",
       "version_major": 2,
       "version_minor": 0
      },
      "text/plain": []
     },
     "metadata": {},
     "output_type": "display_data"
    }
   ],
   "source": [
    "from kissim.comparison import tree"
   ]
  },
  {
   "cell_type": "code",
   "execution_count": 4,
   "metadata": {},
   "outputs": [],
   "source": [
    "tree.from_file(\n",
    "    PATH_TEST_DATA / \"kinase_matrix.csv\", \"kissim.tree\", \"kinase_annotation.csv\", \"ward\"\n",
    ");"
   ]
  },
  {
   "cell_type": "markdown",
   "metadata": {},
   "source": [
    "### CLI\n",
    "\n",
    "```bash\n",
    "kissim tree -i kinase_matrix.csv -o kissim.tree -a kinase_annotation.csv -c ward\n",
    "```"
   ]
  },
  {
   "cell_type": "code",
   "execution_count": 5,
   "metadata": {},
   "outputs": [
    {
     "name": "stdout",
     "output_type": "stream",
     "text": [
      "INFO:kissim.comparison.tree:Reading kinase matrix from ../../kissim/tests/data/kinase_matrix.csv\n",
      "INFO:kissim.comparison.tree:Clustering (method: ward) and calculating branch distances\n",
      "INFO:kissim.comparison.tree:Converting clustering to a Newick tree\n",
      "INFO:kissim.comparison.tree:Writing resulting tree to kissim.tree\n",
      "INFO:kissim.comparison.tree:Writing resulting kinase annotation to kinase_annotation.csv\n"
     ]
    }
   ],
   "source": [
    "# flake8-noqa-cell-E501-E225\n",
    "PATH_KINASE_MATRIX = \"../../kissim/tests/data/kinase_matrix.csv\"\n",
    "!kissim tree -i $PATH_KINASE_MATRIX -o kissim.tree -a kinase_annotation.csv -c ward"
   ]
  },
  {
   "cell_type": "markdown",
   "metadata": {},
   "source": [
    "## Visualize tree"
   ]
  },
  {
   "cell_type": "code",
   "execution_count": 6,
   "metadata": {},
   "outputs": [
    {
     "data": {
      "image/png": "[encoded data removed]",
      "text/plain": [
       "<Figure size 360x216 with 1 Axes>"
      ]
     },
     "metadata": {
      "needs_background": "light"
     },
     "output_type": "display_data"
    }
   ],
   "source": [
    "import pandas as pd\n",
    "import matplotlib.pyplot as plt\n",
    "from Bio import Phylo\n",
    "\n",
    "groups_to_color = {\n",
    "    \"AGC\": \"red\",\n",
    "    \"Atypical\": \"orange\",\n",
    "    \"CAMK\": \"yellowgreen\",\n",
    "    \"CK1\": \"limegreen\",\n",
    "    \"CMGC\": \"turquoise\",\n",
    "    \"Other\": \"cornflowerblue\",\n",
    "    \"STE\": \"mediumblue\",\n",
    "    \"TK\": \"darkorchid\",\n",
    "    \"TKL\": \"violet\"\n",
    "}\n",
    "\n",
    "kinases_to_groups = pd.read_csv(Path(\"kinase_annotation.csv\"), sep=\"\\t\")\n",
    "kinases_to_groups[\"color\"] = kinases_to_groups.apply(\n",
    "    lambda x: groups_to_color[x[\"kinase.group\"]], axis=1\n",
    ")\n",
    "label_colors = kinases_to_groups.set_index(\"kinase.klifs_name\")[\"color\"].to_dict()\n",
    "\n",
    "kissim_tree = Phylo.read(Path(\"kissim.tree\"), \"newick\")\n",
    "# Flip branches so deeper clades are displayed at top\n",
    "kissim_tree.ladderize()\n",
    "\n",
    "fig, ax = plt.subplots(1, 1, figsize=(5, 3))\n",
    "Phylo.draw(kissim_tree, axes=ax, label_colors=label_colors)"
   ]
  },
  {
   "cell_type": "code",
   "execution_count": 7,
   "metadata": {},
   "outputs": [],
   "source": [
    "# Clean up\n",
    "Path(\"kissim.tree\").unlink()\n",
    "Path(\"kinase_annotation.csv\").unlink()"
   ]
  },
  {
   "cell_type": "markdown",
   "metadata": {},
   "source": [
    "### FigTree"
   ]
  },
  {
   "cell_type": "markdown",
   "metadata": {},
   "source": [
    "#### Resources\n",
    "\n",
    "This is a list of resources that are useful to get started with FigTree.\n",
    "\n",
    "- Website: http://tree.bio.ed.ac.uk/software/figtree/\n",
    "- GitHub: https://github.com/rambaut/figtree\n",
    "- Download: https://github.com/rambaut/figtree/releases\n",
    "- Tutorial videos:\n",
    "  - https://www.coursera.org/lecture/informatics/viewing-the-tree-in-figtree-QqGis\n",
    "  - https://www.youtube.com/watch?v=9jLvi5eksAw\n",
    "- Help with tip label coloring using annotations:\n",
    "  - https://groups.google.com/g/figtree-discuss/c/UR2rTvtIzcw\n",
    "  - https://github.com/rambaut/figtree/issues/53"
   ]
  },
  {
   "cell_type": "markdown",
   "metadata": {},
   "source": [
    "#### Download and usage under Linux\n",
    "\n",
    "- Download and unpack [tgz file](https://github.com/rambaut/figtree/releases/download/v1.4.4/FigTree_v1.4.4.tgz)\n",
    "- Read `FigTree_<your-version>/README.txt` > 3) INSTALLATION\n",
    "- Go to `FigTree_<your-version>/lib` and start FigTree with `java -Xms64m -Xmx512m -jar figtree.jar \"$@\"`"
   ]
  },
  {
   "cell_type": "markdown",
   "metadata": {},
   "source": [
    "#### Step-by-step guide to visualize `kissim` trees\n",
    "\n",
    "- File > Open > `kissim.tree` > Name label: \"Mean similarity\" or \"Mean distance\"\n",
    "- Selection mode: \"Node\"\n",
    "- Style the tree (left-side menu)\n",
    "  - Layout\n",
    "    - Polar tree layout (see middle button)\n",
    "    - Optionally: Angle range\n",
    "    - Optionally: Root angle\n",
    "  - Appearance\n",
    "    - Color by: \"Mean similarity\" or \"Mean distance\"\n",
    "    - Setup > Colours > Scheme > Colour Gradient (TODO: define colors)\n",
    "    - Setup > Tick \"Gradient\"\n",
    "    - Line weight: \"2\"\n",
    "- Tip Labels (tick!)\n",
    "- Legend (tick!)\n",
    "- Optionally: Node Labels (tick!)\n",
    "\n",
    "We can color the tip labels (kinase names) by their kinase groups in order to easily compare the structure-based clustering/tree (`kissim`) with the sequence-based clustering/tree (Manning).\n",
    "\n",
    "- Save kinase names and kinase groups (and other attributes) in a tab-separated CSV file `kinase_annotations.csv`. In the following example below, the `kinase.klifs_name` names must match with the tip labels.\n",
    "\n",
    "  ```\n",
    "  kinase.klifs_name\tkinase.group\tkinase.family\n",
    "  AAK1  Other\tNAK\n",
    "  ABL1\tTK\tAbl\n",
    "  ABL2\tTK\tAbl\n",
    "  ACK\tTK\tAck\n",
    "  ```\n",
    "- File > Import Annotations > `kinase_annotations.csv`\n",
    "- Tip Labels (ticked) > Colour by > \"kinase.group\"\n",
    "- That's it :)"
   ]
  }
 ],
 "metadata": {
  "kernelspec": {
   "display_name": "Python 3 (ipykernel)",
   "language": "python",
   "name": "python3"
  },
  "language_info": {
   "codemirror_mode": {
    "name": "ipython",
    "version": 3
   },
   "file_extension": ".py",
   "mimetype": "text/x-python",
   "name": "python",
   "nbconvert_exporter": "python",
   "pygments_lexer": "ipython3",
   "version": "3.9.7"
  },
  "widgets": {
   "application/vnd.jupyter.widget-state+json": {
    "state": {
     "7b639826a9d14928aca85f2eebda4636": {
      "model_module": "nglview-js-widgets",
      "model_module_version": "3.0.1",
      "model_name": "ColormakerRegistryModel",
      "state": {
       "_msg_ar": [],
       "_msg_q": [],
       "_ready": true,
       "layout": "IPY_MODEL_c9fa9d090f41491f9970ce5075893876"
      }
     },
     "c9fa9d090f41491f9970ce5075893876": {
      "model_module": "@jupyter-widgets/base",
      "model_module_version": "1.2.0",
      "model_name": "LayoutModel",
      "state": {}
     }
    },
    "version_major": 2,
    "version_minor": 0
   }
  }
 },
 "nbformat": 4,
 "nbformat_minor": 4
}
