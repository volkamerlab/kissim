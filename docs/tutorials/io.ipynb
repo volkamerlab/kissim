{
 "cells": [
  {
   "cell_type": "markdown",
   "metadata": {},
   "source": [
    "# Pockets\n",
    "\n",
    "Under the hood, fingerprints are calculated based on the pocket objects `PocketBioPython` and `PocketDataFrame`."
   ]
  },
  {
   "cell_type": "code",
   "execution_count": 1,
   "metadata": {},
   "outputs": [
    {
     "data": {
      "application/vnd.jupyter.widget-view+json": {
       "model_id": "ab0aeedd8ec84f23abeb34b42eb76cde",
       "version_major": 2,
       "version_minor": 0
      },
      "text/plain": []
     },
     "metadata": {},
     "output_type": "display_data"
    }
   ],
   "source": [
    "from kissim.io import PocketDataFrame, PocketBioPython"
   ]
  },
  {
   "cell_type": "markdown",
   "metadata": {},
   "source": [
    "## The `PocketBioPython` class"
   ]
  },
  {
   "cell_type": "code",
   "execution_count": 2,
   "metadata": {},
   "outputs": [
    {
     "data": {
      "text/plain": [
       "<kissim.io.biopython.PocketBioPython at 0x7f29f0283610>"
      ]
     },
     "execution_count": 2,
     "metadata": {},
     "output_type": "execute_result"
    }
   ],
   "source": [
    "pocket_bp = PocketBioPython.from_structure_klifs_id(3833)\n",
    "pocket_bp"
   ]
  },
  {
   "cell_type": "code",
   "execution_count": 3,
   "metadata": {},
   "outputs": [
    {
     "data": {
      "text/plain": [
       "<Chain id=B>"
      ]
     },
     "execution_count": 3,
     "metadata": {},
     "output_type": "execute_result"
    }
   ],
   "source": [
    "pocket_bp._data_complex"
   ]
  },
  {
   "cell_type": "code",
   "execution_count": 4,
   "metadata": {},
   "outputs": [
    {
     "name": "stdout",
     "output_type": "stream",
     "text": [
      "50 51 52 53 54 55 56 57 58 59 60 61 62 71 72 73 74 75 76 86 87 88 89 90 91 92 93 94 95 96 97 98 101 102 103 104 105 106 107 108 109 123 124 125 126 127 128 129 130 131 132 133 134 135 136 137 138 139 140 166 167 168 169 170 171 172 173 174 175 176 177 178 179 180 181 182 183 184 192 193 194 195 196 197 198\n"
     ]
    }
   ],
   "source": [
    "print(*pocket_bp._residue_ids)"
   ]
  },
  {
   "cell_type": "code",
   "execution_count": 5,
   "metadata": {},
   "outputs": [
    {
     "name": "stdout",
     "output_type": "stream",
     "text": [
      "1 2 3 4 5 6 7 8 9 10 11 12 13 14 15 16 17 18 19 20 21 22 23 24 25 26 27 28 29 30 31 32 33 34 35 36 37 38 39 40 41 42 43 44 45 46 47 48 49 50 51 52 53 54 55 56 57 58 59 60 61 62 63 64 65 66 67 68 69 70 71 72 73 74 75 76 77 78 79 80 81 82 83 84 85\n"
     ]
    }
   ],
   "source": [
    "print(*pocket_bp._residue_ixs)"
   ]
  },
  {
   "cell_type": "code",
   "execution_count": 6,
   "metadata": {},
   "outputs": [
    {
     "data": {
      "text/plain": [
       "<Bio.PDB.HSExposure.HSExposureCA at 0x7f298134f610>"
      ]
     },
     "execution_count": 6,
     "metadata": {},
     "output_type": "execute_result"
    }
   ],
   "source": [
    "pocket_bp._hse_ca_complex"
   ]
  },
  {
   "cell_type": "code",
   "execution_count": 7,
   "metadata": {},
   "outputs": [
    {
     "data": {
      "text/plain": [
       "<Bio.PDB.HSExposure.HSExposureCB at 0x7f2980f389a0>"
      ]
     },
     "execution_count": 7,
     "metadata": {},
     "output_type": "execute_result"
    }
   ],
   "source": [
    "pocket_bp._hse_cb_complex"
   ]
  },
  {
   "cell_type": "code",
   "execution_count": 8,
   "metadata": {},
   "outputs": [
    {
     "data": {
      "text/plain": [
       "<Vector 1.03, 20.79, 36.40>"
      ]
     },
     "execution_count": 8,
     "metadata": {},
     "output_type": "execute_result"
    }
   ],
   "source": [
    "pocket_bp.center"
   ]
  },
  {
   "cell_type": "code",
   "execution_count": 9,
   "metadata": {},
   "outputs": [
    {
     "data": {
      "text/html": [
       "<div>\n",
       "<style scoped>\n",
       "    .dataframe tbody tr th:only-of-type {\n",
       "        vertical-align: middle;\n",
       "    }\n",
       "\n",
       "    .dataframe tbody tr th {\n",
       "        vertical-align: top;\n",
       "    }\n",
       "\n",
       "    .dataframe thead th {\n",
       "        text-align: right;\n",
       "    }\n",
       "</style>\n",
       "<table border=\"1\" class=\"dataframe\">\n",
       "  <thead>\n",
       "    <tr style=\"text-align: right;\">\n",
       "      <th></th>\n",
       "      <th>residue.id</th>\n",
       "      <th>residue.ix</th>\n",
       "    </tr>\n",
       "  </thead>\n",
       "  <tbody>\n",
       "    <tr>\n",
       "      <th>0</th>\n",
       "      <td>50</td>\n",
       "      <td>1</td>\n",
       "    </tr>\n",
       "    <tr>\n",
       "      <th>1</th>\n",
       "      <td>51</td>\n",
       "      <td>2</td>\n",
       "    </tr>\n",
       "    <tr>\n",
       "      <th>2</th>\n",
       "      <td>52</td>\n",
       "      <td>3</td>\n",
       "    </tr>\n",
       "    <tr>\n",
       "      <th>3</th>\n",
       "      <td>53</td>\n",
       "      <td>4</td>\n",
       "    </tr>\n",
       "    <tr>\n",
       "      <th>4</th>\n",
       "      <td>54</td>\n",
       "      <td>5</td>\n",
       "    </tr>\n",
       "    <tr>\n",
       "      <th>...</th>\n",
       "      <td>...</td>\n",
       "      <td>...</td>\n",
       "    </tr>\n",
       "    <tr>\n",
       "      <th>80</th>\n",
       "      <td>194</td>\n",
       "      <td>81</td>\n",
       "    </tr>\n",
       "    <tr>\n",
       "      <th>81</th>\n",
       "      <td>195</td>\n",
       "      <td>82</td>\n",
       "    </tr>\n",
       "    <tr>\n",
       "      <th>82</th>\n",
       "      <td>196</td>\n",
       "      <td>83</td>\n",
       "    </tr>\n",
       "    <tr>\n",
       "      <th>83</th>\n",
       "      <td>197</td>\n",
       "      <td>84</td>\n",
       "    </tr>\n",
       "    <tr>\n",
       "      <th>84</th>\n",
       "      <td>198</td>\n",
       "      <td>85</td>\n",
       "    </tr>\n",
       "  </tbody>\n",
       "</table>\n",
       "<p>85 rows × 2 columns</p>\n",
       "</div>"
      ],
      "text/plain": [
       "    residue.id  residue.ix\n",
       "0           50           1\n",
       "1           51           2\n",
       "2           52           3\n",
       "3           53           4\n",
       "4           54           5\n",
       "..         ...         ...\n",
       "80         194          81\n",
       "81         195          82\n",
       "82         196          83\n",
       "83         197          84\n",
       "84         198          85\n",
       "\n",
       "[85 rows x 2 columns]"
      ]
     },
     "execution_count": 9,
     "metadata": {},
     "output_type": "execute_result"
    }
   ],
   "source": [
    "pocket_bp.residues"
   ]
  },
  {
   "cell_type": "code",
   "execution_count": 10,
   "metadata": {},
   "outputs": [
    {
     "data": {
      "text/html": [
       "<div>\n",
       "<style scoped>\n",
       "    .dataframe tbody tr th:only-of-type {\n",
       "        vertical-align: middle;\n",
       "    }\n",
       "\n",
       "    .dataframe tbody tr th {\n",
       "        vertical-align: top;\n",
       "    }\n",
       "\n",
       "    .dataframe thead th {\n",
       "        text-align: right;\n",
       "    }\n",
       "</style>\n",
       "<table border=\"1\" class=\"dataframe\">\n",
       "  <thead>\n",
       "    <tr style=\"text-align: right;\">\n",
       "      <th></th>\n",
       "      <th>residue.id</th>\n",
       "      <th>ca.atom</th>\n",
       "      <th>ca.vector</th>\n",
       "    </tr>\n",
       "  </thead>\n",
       "  <tbody>\n",
       "    <tr>\n",
       "      <th>0</th>\n",
       "      <td>50</td>\n",
       "      <td>&lt;Atom CA&gt;</td>\n",
       "      <td>&lt;Vector 6.05, 14.97, 51.86&gt;</td>\n",
       "    </tr>\n",
       "    <tr>\n",
       "      <th>1</th>\n",
       "      <td>51</td>\n",
       "      <td>&lt;Atom CA&gt;</td>\n",
       "      <td>&lt;Vector 6.26, 13.24, 48.48&gt;</td>\n",
       "    </tr>\n",
       "    <tr>\n",
       "      <th>2</th>\n",
       "      <td>52</td>\n",
       "      <td>&lt;Atom CA&gt;</td>\n",
       "      <td>&lt;Vector 2.95, 13.93, 46.61&gt;</td>\n",
       "    </tr>\n",
       "    <tr>\n",
       "      <th>3</th>\n",
       "      <td>53</td>\n",
       "      <td>&lt;Atom CA&gt;</td>\n",
       "      <td>&lt;Vector 3.49, 11.68, 43.58&gt;</td>\n",
       "    </tr>\n",
       "    <tr>\n",
       "      <th>4</th>\n",
       "      <td>54</td>\n",
       "      <td>&lt;Atom CA&gt;</td>\n",
       "      <td>&lt;Vector 6.19, 10.09, 41.43&gt;</td>\n",
       "    </tr>\n",
       "    <tr>\n",
       "      <th>...</th>\n",
       "      <td>...</td>\n",
       "      <td>...</td>\n",
       "      <td>...</td>\n",
       "    </tr>\n",
       "    <tr>\n",
       "      <th>80</th>\n",
       "      <td>194</td>\n",
       "      <td>&lt;Atom CA&gt;</td>\n",
       "      <td>&lt;Vector 1.58, 19.36, 33.55&gt;</td>\n",
       "    </tr>\n",
       "    <tr>\n",
       "      <th>81</th>\n",
       "      <td>195</td>\n",
       "      <td>&lt;Atom CA&gt;</td>\n",
       "      <td>&lt;Vector 2.80, 21.51, 30.64&gt;</td>\n",
       "    </tr>\n",
       "    <tr>\n",
       "      <th>82</th>\n",
       "      <td>196</td>\n",
       "      <td>&lt;Atom CA&gt;</td>\n",
       "      <td>&lt;Vector 5.78, 19.30, 30.06&gt;</td>\n",
       "    </tr>\n",
       "    <tr>\n",
       "      <th>83</th>\n",
       "      <td>197</td>\n",
       "      <td>&lt;Atom CA&gt;</td>\n",
       "      <td>&lt;Vector 4.26, 17.85, 26.87&gt;</td>\n",
       "    </tr>\n",
       "    <tr>\n",
       "      <th>84</th>\n",
       "      <td>198</td>\n",
       "      <td>&lt;Atom CA&gt;</td>\n",
       "      <td>&lt;Vector 2.90, 21.10, 25.47&gt;</td>\n",
       "    </tr>\n",
       "  </tbody>\n",
       "</table>\n",
       "<p>85 rows × 3 columns</p>\n",
       "</div>"
      ],
      "text/plain": [
       "    residue.id    ca.atom                    ca.vector\n",
       "0           50  <Atom CA>  <Vector 6.05, 14.97, 51.86>\n",
       "1           51  <Atom CA>  <Vector 6.26, 13.24, 48.48>\n",
       "2           52  <Atom CA>  <Vector 2.95, 13.93, 46.61>\n",
       "3           53  <Atom CA>  <Vector 3.49, 11.68, 43.58>\n",
       "4           54  <Atom CA>  <Vector 6.19, 10.09, 41.43>\n",
       "..         ...        ...                          ...\n",
       "80         194  <Atom CA>  <Vector 1.58, 19.36, 33.55>\n",
       "81         195  <Atom CA>  <Vector 2.80, 21.51, 30.64>\n",
       "82         196  <Atom CA>  <Vector 5.78, 19.30, 30.06>\n",
       "83         197  <Atom CA>  <Vector 4.26, 17.85, 26.87>\n",
       "84         198  <Atom CA>  <Vector 2.90, 21.10, 25.47>\n",
       "\n",
       "[85 rows x 3 columns]"
      ]
     },
     "execution_count": 10,
     "metadata": {},
     "output_type": "execute_result"
    }
   ],
   "source": [
    "pocket_bp.ca_atoms"
   ]
  },
  {
   "cell_type": "code",
   "execution_count": 11,
   "metadata": {},
   "outputs": [
    {
     "data": {
      "text/html": [
       "<div>\n",
       "<style scoped>\n",
       "    .dataframe tbody tr th:only-of-type {\n",
       "        vertical-align: middle;\n",
       "    }\n",
       "\n",
       "    .dataframe tbody tr th {\n",
       "        vertical-align: top;\n",
       "    }\n",
       "\n",
       "    .dataframe thead th {\n",
       "        text-align: right;\n",
       "    }\n",
       "</style>\n",
       "<table border=\"1\" class=\"dataframe\">\n",
       "  <thead>\n",
       "    <tr style=\"text-align: right;\">\n",
       "      <th></th>\n",
       "      <th>residue.id</th>\n",
       "      <th>pcb.vector</th>\n",
       "    </tr>\n",
       "  </thead>\n",
       "  <tbody>\n",
       "    <tr>\n",
       "      <th>0</th>\n",
       "      <td>50</td>\n",
       "      <td>&lt;Vector 5.33, 14.25, 51.14&gt;</td>\n",
       "    </tr>\n",
       "    <tr>\n",
       "      <th>1</th>\n",
       "      <td>51</td>\n",
       "      <td>&lt;Vector 7.04, 14.02, 49.26&gt;</td>\n",
       "    </tr>\n",
       "    <tr>\n",
       "      <th>2</th>\n",
       "      <td>52</td>\n",
       "      <td>&lt;Vector 2.18, 13.15, 45.84&gt;</td>\n",
       "    </tr>\n",
       "    <tr>\n",
       "      <th>3</th>\n",
       "      <td>53</td>\n",
       "      <td>&lt;Vector 2.59, 10.79, 42.69&gt;</td>\n",
       "    </tr>\n",
       "    <tr>\n",
       "      <th>4</th>\n",
       "      <td>54</td>\n",
       "      <td>&lt;Vector 7.07, 10.97, 42.32&gt;</td>\n",
       "    </tr>\n",
       "    <tr>\n",
       "      <th>...</th>\n",
       "      <td>...</td>\n",
       "      <td>...</td>\n",
       "    </tr>\n",
       "    <tr>\n",
       "      <th>80</th>\n",
       "      <td>194</td>\n",
       "      <td>&lt;Vector 2.02, 19.79, 33.99&gt;</td>\n",
       "    </tr>\n",
       "    <tr>\n",
       "      <th>81</th>\n",
       "      <td>195</td>\n",
       "      <td>&lt;Vector 2.46, 21.17, 30.29&gt;</td>\n",
       "    </tr>\n",
       "    <tr>\n",
       "      <th>82</th>\n",
       "      <td>196</td>\n",
       "      <td>&lt;Vector 6.14, 19.66, 30.42&gt;</td>\n",
       "    </tr>\n",
       "    <tr>\n",
       "      <th>83</th>\n",
       "      <td>197</td>\n",
       "      <td>&lt;Vector 4.24, 17.82, 26.84&gt;</td>\n",
       "    </tr>\n",
       "    <tr>\n",
       "      <th>84</th>\n",
       "      <td>198</td>\n",
       "      <td>&lt;Vector 2.26, 20.47, 24.83&gt;</td>\n",
       "    </tr>\n",
       "  </tbody>\n",
       "</table>\n",
       "<p>85 rows × 2 columns</p>\n",
       "</div>"
      ],
      "text/plain": [
       "    residue.id                   pcb.vector\n",
       "0           50  <Vector 5.33, 14.25, 51.14>\n",
       "1           51  <Vector 7.04, 14.02, 49.26>\n",
       "2           52  <Vector 2.18, 13.15, 45.84>\n",
       "3           53  <Vector 2.59, 10.79, 42.69>\n",
       "4           54  <Vector 7.07, 10.97, 42.32>\n",
       "..         ...                          ...\n",
       "80         194  <Vector 2.02, 19.79, 33.99>\n",
       "81         195  <Vector 2.46, 21.17, 30.29>\n",
       "82         196  <Vector 6.14, 19.66, 30.42>\n",
       "83         197  <Vector 4.24, 17.82, 26.84>\n",
       "84         198  <Vector 2.26, 20.47, 24.83>\n",
       "\n",
       "[85 rows x 2 columns]"
      ]
     },
     "execution_count": 11,
     "metadata": {},
     "output_type": "execute_result"
    }
   ],
   "source": [
    "pocket_bp.pcb_atoms"
   ]
  },
  {
   "cell_type": "code",
   "execution_count": 12,
   "metadata": {},
   "outputs": [
    {
     "data": {
      "text/html": [
       "<div>\n",
       "<style scoped>\n",
       "    .dataframe tbody tr th:only-of-type {\n",
       "        vertical-align: middle;\n",
       "    }\n",
       "\n",
       "    .dataframe tbody tr th {\n",
       "        vertical-align: top;\n",
       "    }\n",
       "\n",
       "    .dataframe thead th {\n",
       "        text-align: right;\n",
       "    }\n",
       "</style>\n",
       "<table border=\"1\" class=\"dataframe\">\n",
       "  <thead>\n",
       "    <tr style=\"text-align: right;\">\n",
       "      <th></th>\n",
       "      <th>residue.id</th>\n",
       "      <th>sc.atom</th>\n",
       "      <th>sc.vector</th>\n",
       "    </tr>\n",
       "  </thead>\n",
       "  <tbody>\n",
       "    <tr>\n",
       "      <th>0</th>\n",
       "      <td>50</td>\n",
       "      <td>&lt;Atom CD&gt;</td>\n",
       "      <td>&lt;Vector 2.59, 15.27, 53.70&gt;</td>\n",
       "    </tr>\n",
       "    <tr>\n",
       "      <th>1</th>\n",
       "      <td>51</td>\n",
       "      <td>&lt;Atom CB&gt;</td>\n",
       "      <td>&lt;Vector 7.01, 11.93, 48.09&gt;</td>\n",
       "    </tr>\n",
       "    <tr>\n",
       "      <th>2</th>\n",
       "      <td>52</td>\n",
       "      <td>&lt;Atom CG&gt;</td>\n",
       "      <td>&lt;Vector 2.54, 16.38, 47.18&gt;</td>\n",
       "    </tr>\n",
       "    <tr>\n",
       "      <th>3</th>\n",
       "      <td>53</td>\n",
       "      <td>&lt;Atom CB&gt;</td>\n",
       "      <td>&lt;Vector 2.34, 11.94, 42.59&gt;</td>\n",
       "    </tr>\n",
       "    <tr>\n",
       "      <th>4</th>\n",
       "      <td>54</td>\n",
       "      <td>None</td>\n",
       "      <td>None</td>\n",
       "    </tr>\n",
       "    <tr>\n",
       "      <th>...</th>\n",
       "      <td>...</td>\n",
       "      <td>...</td>\n",
       "      <td>...</td>\n",
       "    </tr>\n",
       "    <tr>\n",
       "      <th>80</th>\n",
       "      <td>194</td>\n",
       "      <td>&lt;Atom CG&gt;</td>\n",
       "      <td>&lt;Vector 2.22, 17.02, 32.73&gt;</td>\n",
       "    </tr>\n",
       "    <tr>\n",
       "      <th>81</th>\n",
       "      <td>195</td>\n",
       "      <td>&lt;Atom CZ&gt;</td>\n",
       "      <td>&lt;Vector -1.29, 23.95, 32.17&gt;</td>\n",
       "    </tr>\n",
       "    <tr>\n",
       "      <th>82</th>\n",
       "      <td>196</td>\n",
       "      <td>None</td>\n",
       "      <td>None</td>\n",
       "    </tr>\n",
       "    <tr>\n",
       "      <th>83</th>\n",
       "      <td>197</td>\n",
       "      <td>&lt;Atom OG&gt;</td>\n",
       "      <td>&lt;Vector 3.89, 15.56, 27.56&gt;</td>\n",
       "    </tr>\n",
       "    <tr>\n",
       "      <th>84</th>\n",
       "      <td>198</td>\n",
       "      <td>&lt;Atom CB&gt;</td>\n",
       "      <td>&lt;Vector 2.54, 22.32, 26.31&gt;</td>\n",
       "    </tr>\n",
       "  </tbody>\n",
       "</table>\n",
       "<p>85 rows × 3 columns</p>\n",
       "</div>"
      ],
      "text/plain": [
       "    residue.id    sc.atom                     sc.vector\n",
       "0           50  <Atom CD>   <Vector 2.59, 15.27, 53.70>\n",
       "1           51  <Atom CB>   <Vector 7.01, 11.93, 48.09>\n",
       "2           52  <Atom CG>   <Vector 2.54, 16.38, 47.18>\n",
       "3           53  <Atom CB>   <Vector 2.34, 11.94, 42.59>\n",
       "4           54       None                          None\n",
       "..         ...        ...                           ...\n",
       "80         194  <Atom CG>   <Vector 2.22, 17.02, 32.73>\n",
       "81         195  <Atom CZ>  <Vector -1.29, 23.95, 32.17>\n",
       "82         196       None                          None\n",
       "83         197  <Atom OG>   <Vector 3.89, 15.56, 27.56>\n",
       "84         198  <Atom CB>   <Vector 2.54, 22.32, 26.31>\n",
       "\n",
       "[85 rows x 3 columns]"
      ]
     },
     "execution_count": 12,
     "metadata": {},
     "output_type": "execute_result"
    }
   ],
   "source": [
    "pocket_bp.side_chain_representatives"
   ]
  },
  {
   "cell_type": "code",
   "execution_count": 13,
   "metadata": {},
   "outputs": [
    {
     "data": {
      "text/plain": [
       "{('B', (' ', 50, ' ')): (0, 24, 0.6197137877140018),\n",
       " ('B', (' ', 51, ' ')): (13, 11, 0.4400458880435926),\n",
       " ('B', (' ', 52, ' ')): (11, 15, 0.8699943332590032),\n",
       " ('B', (' ', 53, ' ')): (6, 14, 0.5455223112896657),\n",
       " ('B', (' ', 54, ' ')): (9, 9, 0.49285595458564824),\n",
       " ('B', (' ', 55, ' ')): (5, 11, 0.2941359715310677),\n",
       " ('B', (' ', 56, ' ')): (10, 11, 0.9790254625222359),\n",
       " ('B', (' ', 57, ' ')): (3, 13, 0.9425564706303946),\n",
       " ('B', (' ', 58, ' ')): (13, 10, 0.5495378576769611),\n",
       " ('B', (' ', 59, ' ')): (8, 16, 0.40339554008573103),\n",
       " ('B', (' ', 60, ' ')): (15, 18, 0.304325298836267),\n",
       " ('B', (' ', 61, ' ')): (20, 16, 0.5931810944634327),\n",
       " ('B', (' ', 62, ' ')): (11, 25, 0.44226493769072395),\n",
       " ('B', (' ', 71, ' ')): (15, 19, 0.7362696551359399),\n",
       " ('B', (' ', 72, ' ')): (15, 22, 0.4332467393311994),\n",
       " ('B', (' ', 73, ' ')): (25, 19, 0.3568300182779931),\n",
       " ('B', (' ', 74, ' ')): (19, 25, 0.36661964271877784),\n",
       " ('B', (' ', 75, ' ')): (17, 20, 0.44340914499427436),\n",
       " ('B', (' ', 76, ' ')): (11, 19, 0.4770153998912767),\n",
       " ('B', (' ', 86, ' ')): (8, 17, 0.8859430313928824),\n",
       " ('B', (' ', 87, ' ')): (19, 16, 0.8622864738612888),\n",
       " ('B', (' ', 88, ' ')): (8, 20, 0.8405765787426461),\n",
       " ('B', (' ', 89, ' ')): (5, 16, 0.9291386190810254),\n",
       " ('B', (' ', 90, ' ')): (13, 19, 0.953716741303981),\n",
       " ('B', (' ', 91, ' ')): (13, 19, 0.8865982009746481),\n",
       " ('B', (' ', 92, ' ')): (1, 20, 0.8733328206126585),\n",
       " ('B', (' ', 93, ' ')): (14, 20, 0.8833230562020254),\n",
       " ('B', (' ', 94, ' ')): (23, 12, 0.8553298500238189),\n",
       " ('B', (' ', 95, ' ')): (7, 16, 0.925040565935056),\n",
       " ('B', (' ', 96, ' ')): (3, 19, 0.9175581487052348),\n",
       " ('B', (' ', 97, ' ')): (16, 12, 0.8448422110645292),\n",
       " ('B', (' ', 98, ' ')): (21, 8, 0.772624154156718),\n",
       " ('B', (' ', 101, ' ')): (4, 21, 0.7954110257394671),\n",
       " ('B', (' ', 102, ' ')): (22, 13, 0.5842973026856542),\n",
       " ('B', (' ', 103, ' ')): (20, 19, 0.4037158951938523),\n",
       " ('B', (' ', 104, ' ')): (22, 16, 0.4677614213481592),\n",
       " ('B', (' ', 105, ' ')): (5, 28, 0.43228971638344355),\n",
       " ('B', (' ', 106, ' ')): (18, 13, 0.5313672484796714),\n",
       " ('B', (' ', 107, ' ')): (7, 19, 0.8498111482415309),\n",
       " ('B', (' ', 108, ' ')): (7, 21, 0.8139462373124519),\n",
       " ('B', (' ', 109, ' ')): (21, 11, 0.5391981971534253),\n",
       " ('B', (' ', 123, ' ')): (18, 20, 0.4050809933719408),\n",
       " ('B', (' ', 124, ' ')): (16, 28, 0.3034744821483621),\n",
       " ('B', (' ', 125, ' ')): (19, 18, 0.3500027494916892),\n",
       " ('B', (' ', 126, ' ')): (17, 16, 0.6680016636665198),\n",
       " ('B', (' ', 127, ' ')): (14, 22, 0.5820339041156853),\n",
       " ('B', (' ', 128, ' ')): (16, 17, 0.43048524831876156),\n",
       " ('B', (' ', 129, ' ')): (20, 12, 0.4341685712129487),\n",
       " ('B', (' ', 130, ' ')): (5, 16, 0.86162520989722),\n",
       " ('B', (' ', 131, ' ')): (9, 12, 0.8388556271870947),\n",
       " ('B', (' ', 132, ' ')): (8, 21, 1.3495086799591236),\n",
       " ('B', (' ', 133, ' ')): (10, 18, 0.5257686788282299),\n",
       " ('B', (' ', 134, ' ')): (23, 16, 0.8461667873769668),\n",
       " ('B', (' ', 135, ' ')): (10, 16, 0.9102614306383141),\n",
       " ('B', (' ', 136, ' ')): (1, 17, 0.7959873771099263),\n",
       " ('B', (' ', 137, ' ')): (10, 17, 0.8545565186991031),\n",
       " ('B', (' ', 138, ' ')): (18, 11, 0.9137379136813545),\n",
       " ('B', (' ', 139, ' ')): (0, 15, 0.889553773040521),\n",
       " ('B', (' ', 140, ' ')): (0, 14, 0.8646932363765047),\n",
       " ('B', (' ', 166, ' ')): (18, 16, 0.8796823944745646),\n",
       " ('B', (' ', 167, ' ')): (10, 15, 0.5980931864451884),\n",
       " ('B', (' ', 168, ' ')): (11, 8, 0.6183457904059264),\n",
       " ('B', (' ', 169, ' ')): (1, 11, 0.8542727485434437),\n",
       " ('B', (' ', 170, ' ')): (5, 11, 0.40969310277011406),\n",
       " ('B', (' ', 171, ' ')): (12, 12, 0.533790163935913),\n",
       " ('B', (' ', 172, ' ')): (19, 16, 0.4175798249374188),\n",
       " ('B', (' ', 173, ' ')): (16, 23, 0.43916572527333025),\n",
       " ('B', (' ', 174, ' ')): (19, 27, 0.9359842774400827),\n",
       " ('B', (' ', 175, ' ')): (25, 17, 0.9931915795904408),\n",
       " ('B', (' ', 176, ' ')): (17, 23, 0.4627556650536935),\n",
       " ('B', (' ', 177, ' ')): (24, 19, 0.4882358074288238),\n",
       " ('B', (' ', 178, ' ')): (16, 23, 0.6412014624139608),\n",
       " ('B', (' ', 179, ' ')): (27, 13, 0.7931596039844055),\n",
       " ('B', (' ', 180, ' ')): (10, 18, 0.8262558129812109),\n",
       " ('B', (' ', 181, ' ')): (17, 19, 0.6297105732980736),\n",
       " ('B', (' ', 182, ' ')): (23, 16, 0.3642456482953483),\n",
       " ('B', (' ', 183, ' ')): (13, 23, 0.5005024224974677),\n",
       " ('B', (' ', 184, ' ')): (14, 20, 0.4048030262675747),\n",
       " ('B', (' ', 192, ' ')): (20, 23, 0.4904758113391317),\n",
       " ('B', (' ', 193, ' ')): (23, 22, 0.6108396455687325),\n",
       " ('B', (' ', 194, ' ')): (17, 22, 0.7986453805747944),\n",
       " ('B', (' ', 195, ' ')): (25, 14, 0.5975147225163671),\n",
       " ('B', (' ', 196, ' ')): (18, 18, 0.8441847907301477),\n",
       " ('B', (' ', 197, ' ')): (12, 20, 0.7686260238521267),\n",
       " ('B', (' ', 198, ' ')): (19, 18, 0.48068168790560734)}"
      ]
     },
     "execution_count": 13,
     "metadata": {},
     "output_type": "execute_result"
    }
   ],
   "source": [
    "pocket_bp.hse_ca"
   ]
  },
  {
   "cell_type": "code",
   "execution_count": 14,
   "metadata": {},
   "outputs": [
    {
     "data": {
      "text/plain": [
       "{('B', (' ', 50, ' ')): (7, 17, 0.0),\n",
       " ('B', (' ', 51, ' ')): (10, 14, 0.0),\n",
       " ('B', (' ', 52, ' ')): (18, 8, 0.0),\n",
       " ('B', (' ', 53, ' ')): (8, 12, 0.0),\n",
       " ('B', (' ', 54, ' ')): (3, 15, 0.0),\n",
       " ('B', (' ', 55, ' ')): (5, 11, 0.0),\n",
       " ('B', (' ', 56, ' ')): (14, 7, 0.0),\n",
       " ('B', (' ', 57, ' ')): (6, 10, 0.0),\n",
       " ('B', (' ', 58, ' ')): (16, 7, 0.0),\n",
       " ('B', (' ', 59, ' ')): (8, 16, 0.0),\n",
       " ('B', (' ', 60, ' ')): (13, 20, 0.0),\n",
       " ('B', (' ', 61, ' ')): (20, 16, 0.0),\n",
       " ('B', (' ', 62, ' ')): (10, 26, 0.0),\n",
       " ('B', (' ', 71, ' ')): (20, 14, 0.0),\n",
       " ('B', (' ', 72, ' ')): (15, 22, 0.0),\n",
       " ('B', (' ', 73, ' ')): (24, 20, 0.0),\n",
       " ('B', (' ', 74, ' ')): (19, 25, 0.0),\n",
       " ('B', (' ', 75, ' ')): (17, 20, 0.0),\n",
       " ('B', (' ', 76, ' ')): (15, 15, 0.0),\n",
       " ('B', (' ', 86, ' ')): (13, 12, 0.0),\n",
       " ('B', (' ', 87, ' ')): (20, 15, 0.0),\n",
       " ('B', (' ', 88, ' ')): (7, 21, 0.0),\n",
       " ('B', (' ', 89, ' ')): (12, 9, 0.0),\n",
       " ('B', (' ', 90, ' ')): (15, 17, 0.0),\n",
       " ('B', (' ', 91, ' ')): (15, 17, 0.0),\n",
       " ('B', (' ', 92, ' ')): (7, 14, 0.0),\n",
       " ('B', (' ', 93, ' ')): (23, 11, 0.0),\n",
       " ('B', (' ', 94, ' ')): (19, 16, 0.0),\n",
       " ('B', (' ', 95, ' ')): (8, 15, 0.0),\n",
       " ('B', (' ', 96, ' ')): (11, 11, 0.0),\n",
       " ('B', (' ', 97, ' ')): (20, 8, 0.0),\n",
       " ('B', (' ', 98, ' ')): (17, 12, 0.0),\n",
       " ('B', (' ', 101, ' ')): (6, 19, 0.0),\n",
       " ('B', (' ', 102, ' ')): (18, 17, 0.0),\n",
       " ('B', (' ', 103, ' ')): (18, 21, 0.0),\n",
       " ('B', (' ', 104, ' ')): (19, 19, 0.0),\n",
       " ('B', (' ', 105, ' ')): (8, 25, 0.0),\n",
       " ('B', (' ', 106, ' ')): (17, 14, 0.0),\n",
       " ('B', (' ', 107, ' ')): (14, 12, 0.0),\n",
       " ('B', (' ', 108, ' ')): (10, 18, 0.0),\n",
       " ('B', (' ', 109, ' ')): (17, 15, 0.0),\n",
       " ('B', (' ', 123, ' ')): (18, 20, 0.0),\n",
       " ('B', (' ', 124, ' ')): (21, 23, 0.0),\n",
       " ('B', (' ', 125, ' ')): (17, 20, 0.0),\n",
       " ('B', (' ', 126, ' ')): (19, 14, 0.0),\n",
       " ('B', (' ', 127, ' ')): (17, 19, 0.0),\n",
       " ('B', (' ', 128, ' ')): (13, 20, 0.0),\n",
       " ('B', (' ', 129, ' ')): (22, 10, 0.0),\n",
       " ('B', (' ', 130, ' ')): (3, 18, 0.0),\n",
       " ('B', (' ', 131, ' ')): (13, 8, 0.0),\n",
       " ('B', (' ', 132, ' ')): (6, 23, 0.0),\n",
       " ('B', (' ', 133, ' ')): (11, 17, 0.0),\n",
       " ('B', (' ', 134, ' ')): (23, 16, 0.0),\n",
       " ('B', (' ', 135, ' ')): (6, 20, 0.0),\n",
       " ('B', (' ', 136, ' ')): (5, 13, 0.0),\n",
       " ('B', (' ', 137, ' ')): (17, 10, 0.0),\n",
       " ('B', (' ', 138, ' ')): (15, 14, 0.0),\n",
       " ('B', (' ', 139, ' ')): (4, 11, 0.0),\n",
       " ('B', (' ', 140, ' ')): (6, 8, 0.0),\n",
       " ('B', (' ', 166, ' ')): (20, 14, 0.0),\n",
       " ('B', (' ', 167, ' ')): (14, 11, 0.0),\n",
       " ('B', (' ', 168, ' ')): (14, 5, 0.0),\n",
       " ('B', (' ', 169, ' ')): (1, 11, 0.0),\n",
       " ('B', (' ', 170, ' ')): (5, 11, 0.0),\n",
       " ('B', (' ', 171, ' ')): (10, 14, 0.0),\n",
       " ('B', (' ', 172, ' ')): (18, 17, 0.0),\n",
       " ('B', (' ', 173, ' ')): (19, 20, 0.0),\n",
       " ('B', (' ', 174, ' ')): (25, 21, 0.0),\n",
       " ('B', (' ', 175, ' ')): (19, 23, 0.0),\n",
       " ('B', (' ', 176, ' ')): (16, 24, 0.0),\n",
       " ('B', (' ', 177, ' ')): (23, 20, 0.0),\n",
       " ('B', (' ', 178, ' ')): (12, 27, 0.0),\n",
       " ('B', (' ', 179, ' ')): (20, 20, 0.0),\n",
       " ('B', (' ', 180, ' ')): (8, 20, 0.0),\n",
       " ('B', (' ', 181, ' ')): (18, 18, 0.0),\n",
       " ('B', (' ', 182, ' ')): (22, 17, 0.0),\n",
       " ('B', (' ', 183, ' ')): (16, 20, 0.0),\n",
       " ('B', (' ', 184, ' ')): (14, 20, 0.0),\n",
       " ('B', (' ', 192, ' ')): (23, 20, 0.0),\n",
       " ('B', (' ', 193, ' ')): (21, 24, 0.0),\n",
       " ('B', (' ', 194, ' ')): (18, 21, 0.0),\n",
       " ('B', (' ', 195, ' ')): (25, 14, 0.0),\n",
       " ('B', (' ', 196, ' ')): (16, 20, 0.0),\n",
       " ('B', (' ', 197, ' ')): (17, 15, 0.0),\n",
       " ('B', (' ', 198, ' ')): (18, 19, 0.0)}"
      ]
     },
     "execution_count": 14,
     "metadata": {},
     "output_type": "execute_result"
    }
   ],
   "source": [
    "pocket_bp.hse_cb"
   ]
  },
  {
   "cell_type": "markdown",
   "metadata": {},
   "source": [
    "## The `PocketDataFrame` class"
   ]
  },
  {
   "cell_type": "code",
   "execution_count": 15,
   "metadata": {},
   "outputs": [
    {
     "data": {
      "text/plain": [
       "<kissim.io.dataframe.PocketDataFrame at 0x7f29812cd4f0>"
      ]
     },
     "execution_count": 15,
     "metadata": {},
     "output_type": "execute_result"
    }
   ],
   "source": [
    "pocket_df = PocketDataFrame.from_structure_klifs_id(3833)\n",
    "pocket_df"
   ]
  },
  {
   "cell_type": "code",
   "execution_count": 16,
   "metadata": {},
   "outputs": [
    {
     "data": {
      "text/plain": [
       "(653, 7)"
      ]
     },
     "execution_count": 16,
     "metadata": {},
     "output_type": "execute_result"
    }
   ],
   "source": [
    "pocket_df.data.shape"
   ]
  },
  {
   "cell_type": "code",
   "execution_count": 17,
   "metadata": {},
   "outputs": [
    {
     "data": {
      "text/plain": [
       "85"
      ]
     },
     "execution_count": 17,
     "metadata": {},
     "output_type": "execute_result"
    }
   ],
   "source": [
    "pocket_df.data[\"residue.id\"].unique().shape[0]"
   ]
  },
  {
   "cell_type": "code",
   "execution_count": 18,
   "metadata": {},
   "outputs": [
    {
     "name": "stdout",
     "output_type": "stream",
     "text": [
      "50 51 52 53 54 55 56 57 58 59 60 61 62 71 72 73 74 75 76 86 87 88 89 90 91 92 93 94 95 96 97 98 101 102 103 104 105 106 107 108 109 123 124 125 126 127 128 129 130 131 132 133 134 135 136 137 138 139 140 166 167 168 169 170 171 172 173 174 175 176 177 178 179 180 181 182 183 184 192 193 194 195 196 197 198\n"
     ]
    }
   ],
   "source": [
    "print(*pocket_df._residue_ids)"
   ]
  },
  {
   "cell_type": "code",
   "execution_count": 19,
   "metadata": {},
   "outputs": [
    {
     "name": "stdout",
     "output_type": "stream",
     "text": [
      "1 2 3 4 5 6 7 8 9 10 11 12 13 14 15 16 17 18 19 20 21 22 23 24 25 26 27 28 29 30 31 32 33 34 35 36 37 38 39 40 41 42 43 44 45 46 47 48 49 50 51 52 53 54 55 56 57 58 59 60 61 62 63 64 65 66 67 68 69 70 71 72 73 74 75 76 77 78 79 80 81 82 83 84 85\n"
     ]
    }
   ],
   "source": [
    "print(*pocket_df._residue_ixs)"
   ]
  },
  {
   "cell_type": "code",
   "execution_count": 20,
   "metadata": {},
   "outputs": [
    {
     "data": {
      "text/plain": [
       "array([ 1.0266471, 20.789919 , 36.403976 ], dtype=float32)"
      ]
     },
     "execution_count": 20,
     "metadata": {},
     "output_type": "execute_result"
    }
   ],
   "source": [
    "pocket_df.center"
   ]
  },
  {
   "cell_type": "code",
   "execution_count": 21,
   "metadata": {},
   "outputs": [
    {
     "data": {
      "text/html": [
       "<div>\n",
       "<style scoped>\n",
       "    .dataframe tbody tr th:only-of-type {\n",
       "        vertical-align: middle;\n",
       "    }\n",
       "\n",
       "    .dataframe tbody tr th {\n",
       "        vertical-align: top;\n",
       "    }\n",
       "\n",
       "    .dataframe thead th {\n",
       "        text-align: right;\n",
       "    }\n",
       "</style>\n",
       "<table border=\"1\" class=\"dataframe\">\n",
       "  <thead>\n",
       "    <tr style=\"text-align: right;\">\n",
       "      <th></th>\n",
       "      <th>residue.id</th>\n",
       "      <th>residue.ix</th>\n",
       "    </tr>\n",
       "  </thead>\n",
       "  <tbody>\n",
       "    <tr>\n",
       "      <th>0</th>\n",
       "      <td>50</td>\n",
       "      <td>1</td>\n",
       "    </tr>\n",
       "    <tr>\n",
       "      <th>1</th>\n",
       "      <td>51</td>\n",
       "      <td>2</td>\n",
       "    </tr>\n",
       "    <tr>\n",
       "      <th>2</th>\n",
       "      <td>52</td>\n",
       "      <td>3</td>\n",
       "    </tr>\n",
       "    <tr>\n",
       "      <th>3</th>\n",
       "      <td>53</td>\n",
       "      <td>4</td>\n",
       "    </tr>\n",
       "    <tr>\n",
       "      <th>4</th>\n",
       "      <td>54</td>\n",
       "      <td>5</td>\n",
       "    </tr>\n",
       "    <tr>\n",
       "      <th>...</th>\n",
       "      <td>...</td>\n",
       "      <td>...</td>\n",
       "    </tr>\n",
       "    <tr>\n",
       "      <th>80</th>\n",
       "      <td>194</td>\n",
       "      <td>81</td>\n",
       "    </tr>\n",
       "    <tr>\n",
       "      <th>81</th>\n",
       "      <td>195</td>\n",
       "      <td>82</td>\n",
       "    </tr>\n",
       "    <tr>\n",
       "      <th>82</th>\n",
       "      <td>196</td>\n",
       "      <td>83</td>\n",
       "    </tr>\n",
       "    <tr>\n",
       "      <th>83</th>\n",
       "      <td>197</td>\n",
       "      <td>84</td>\n",
       "    </tr>\n",
       "    <tr>\n",
       "      <th>84</th>\n",
       "      <td>198</td>\n",
       "      <td>85</td>\n",
       "    </tr>\n",
       "  </tbody>\n",
       "</table>\n",
       "<p>85 rows × 2 columns</p>\n",
       "</div>"
      ],
      "text/plain": [
       "    residue.id  residue.ix\n",
       "0           50           1\n",
       "1           51           2\n",
       "2           52           3\n",
       "3           53           4\n",
       "4           54           5\n",
       "..         ...         ...\n",
       "80         194          81\n",
       "81         195          82\n",
       "82         196          83\n",
       "83         197          84\n",
       "84         198          85\n",
       "\n",
       "[85 rows x 2 columns]"
      ]
     },
     "execution_count": 21,
     "metadata": {},
     "output_type": "execute_result"
    }
   ],
   "source": [
    "pocket_df.residues"
   ]
  },
  {
   "cell_type": "code",
   "execution_count": 22,
   "metadata": {},
   "outputs": [
    {
     "data": {
      "text/html": [
       "<div>\n",
       "<style scoped>\n",
       "    .dataframe tbody tr th:only-of-type {\n",
       "        vertical-align: middle;\n",
       "    }\n",
       "\n",
       "    .dataframe tbody tr th {\n",
       "        vertical-align: top;\n",
       "    }\n",
       "\n",
       "    .dataframe thead th {\n",
       "        text-align: right;\n",
       "    }\n",
       "</style>\n",
       "<table border=\"1\" class=\"dataframe\">\n",
       "  <thead>\n",
       "    <tr style=\"text-align: right;\">\n",
       "      <th></th>\n",
       "      <th>atom.id</th>\n",
       "      <th>atom.name</th>\n",
       "      <th>atom.x</th>\n",
       "      <th>atom.y</th>\n",
       "      <th>atom.z</th>\n",
       "      <th>residue.id</th>\n",
       "      <th>residue.name</th>\n",
       "    </tr>\n",
       "  </thead>\n",
       "  <tbody>\n",
       "    <tr>\n",
       "      <th>132</th>\n",
       "      <td>133</td>\n",
       "      <td>CA</td>\n",
       "      <td>6.052</td>\n",
       "      <td>14.970000</td>\n",
       "      <td>51.859001</td>\n",
       "      <td>50</td>\n",
       "      <td>GLU</td>\n",
       "    </tr>\n",
       "    <tr>\n",
       "      <th>141</th>\n",
       "      <td>142</td>\n",
       "      <td>CA</td>\n",
       "      <td>6.264</td>\n",
       "      <td>13.245000</td>\n",
       "      <td>48.484001</td>\n",
       "      <td>51</td>\n",
       "      <td>VAL</td>\n",
       "    </tr>\n",
       "    <tr>\n",
       "      <th>148</th>\n",
       "      <td>149</td>\n",
       "      <td>CA</td>\n",
       "      <td>2.951</td>\n",
       "      <td>13.925000</td>\n",
       "      <td>46.609001</td>\n",
       "      <td>52</td>\n",
       "      <td>LEU</td>\n",
       "    </tr>\n",
       "    <tr>\n",
       "      <th>156</th>\n",
       "      <td>157</td>\n",
       "      <td>CA</td>\n",
       "      <td>3.487</td>\n",
       "      <td>11.680000</td>\n",
       "      <td>43.578999</td>\n",
       "      <td>53</td>\n",
       "      <td>ALA</td>\n",
       "    </tr>\n",
       "    <tr>\n",
       "      <th>161</th>\n",
       "      <td>162</td>\n",
       "      <td>CA</td>\n",
       "      <td>6.188</td>\n",
       "      <td>10.086000</td>\n",
       "      <td>41.433998</td>\n",
       "      <td>54</td>\n",
       "      <td>GLU</td>\n",
       "    </tr>\n",
       "    <tr>\n",
       "      <th>...</th>\n",
       "      <td>...</td>\n",
       "      <td>...</td>\n",
       "      <td>...</td>\n",
       "      <td>...</td>\n",
       "      <td>...</td>\n",
       "      <td>...</td>\n",
       "      <td>...</td>\n",
       "    </tr>\n",
       "    <tr>\n",
       "      <th>1242</th>\n",
       "      <td>1243</td>\n",
       "      <td>CA</td>\n",
       "      <td>1.581</td>\n",
       "      <td>19.357000</td>\n",
       "      <td>33.549999</td>\n",
       "      <td>194</td>\n",
       "      <td>ASP</td>\n",
       "    </tr>\n",
       "    <tr>\n",
       "      <th>1250</th>\n",
       "      <td>1251</td>\n",
       "      <td>CA</td>\n",
       "      <td>2.802</td>\n",
       "      <td>21.513000</td>\n",
       "      <td>30.635000</td>\n",
       "      <td>195</td>\n",
       "      <td>PHE</td>\n",
       "    </tr>\n",
       "    <tr>\n",
       "      <th>1261</th>\n",
       "      <td>1262</td>\n",
       "      <td>CA</td>\n",
       "      <td>5.782</td>\n",
       "      <td>19.296000</td>\n",
       "      <td>30.059999</td>\n",
       "      <td>196</td>\n",
       "      <td>GLY</td>\n",
       "    </tr>\n",
       "    <tr>\n",
       "      <th>1265</th>\n",
       "      <td>1266</td>\n",
       "      <td>CA</td>\n",
       "      <td>4.264</td>\n",
       "      <td>17.849001</td>\n",
       "      <td>26.867001</td>\n",
       "      <td>197</td>\n",
       "      <td>SER</td>\n",
       "    </tr>\n",
       "    <tr>\n",
       "      <th>1271</th>\n",
       "      <td>1272</td>\n",
       "      <td>CA</td>\n",
       "      <td>2.897</td>\n",
       "      <td>21.103001</td>\n",
       "      <td>25.471001</td>\n",
       "      <td>198</td>\n",
       "      <td>ALA</td>\n",
       "    </tr>\n",
       "  </tbody>\n",
       "</table>\n",
       "<p>85 rows × 7 columns</p>\n",
       "</div>"
      ],
      "text/plain": [
       "      atom.id atom.name  atom.x     atom.y     atom.z  residue.id residue.name\n",
       "132       133        CA   6.052  14.970000  51.859001          50          GLU\n",
       "141       142        CA   6.264  13.245000  48.484001          51          VAL\n",
       "148       149        CA   2.951  13.925000  46.609001          52          LEU\n",
       "156       157        CA   3.487  11.680000  43.578999          53          ALA\n",
       "161       162        CA   6.188  10.086000  41.433998          54          GLU\n",
       "...       ...       ...     ...        ...        ...         ...          ...\n",
       "1242     1243        CA   1.581  19.357000  33.549999         194          ASP\n",
       "1250     1251        CA   2.802  21.513000  30.635000         195          PHE\n",
       "1261     1262        CA   5.782  19.296000  30.059999         196          GLY\n",
       "1265     1266        CA   4.264  17.849001  26.867001         197          SER\n",
       "1271     1272        CA   2.897  21.103001  25.471001         198          ALA\n",
       "\n",
       "[85 rows x 7 columns]"
      ]
     },
     "execution_count": 22,
     "metadata": {},
     "output_type": "execute_result"
    }
   ],
   "source": [
    "pocket_df.ca_atoms"
   ]
  }
 ],
 "metadata": {
  "kernelspec": {
   "display_name": "Python 3 (ipykernel)",
   "language": "python",
   "name": "python3"
  },
  "language_info": {
   "codemirror_mode": {
    "name": "ipython",
    "version": 3
   },
   "file_extension": ".py",
   "mimetype": "text/x-python",
   "name": "python",
   "nbconvert_exporter": "python",
   "pygments_lexer": "ipython3",
   "version": "3.9.7"
  }
 },
 "nbformat": 4,
 "nbformat_minor": 4
}
