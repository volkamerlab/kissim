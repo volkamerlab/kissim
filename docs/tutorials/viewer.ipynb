{
 "cells": [
  {
   "cell_type": "markdown",
   "id": "da373485-8ac2-46dd-9c06-7670cb481179",
   "metadata": {},
   "source": [
    "# View fingerprint in 3D"
   ]
  },
  {
   "cell_type": "code",
   "execution_count": null,
   "id": "14cf1e13-4f8c-4a2d-83c6-60e31abd8a2e",
   "metadata": {},
   "outputs": [],
   "source": [
    "from kissim.viewer import Viewer"
   ]
  },
  {
   "cell_type": "code",
   "execution_count": null,
   "id": "cf8ea17c-2b91-4d43-999a-c3e00c9b1f04",
   "metadata": {},
   "outputs": [],
   "source": [
    "viewer = Viewer(3835)"
   ]
  },
  {
   "cell_type": "code",
   "execution_count": null,
   "id": "5dc29637-afb7-43d3-8ecc-c590131e7e10",
   "metadata": {},
   "outputs": [],
   "source": [
    "viewer.show()"
   ]
  },
  {
   "cell_type": "code",
   "execution_count": null,
   "id": "f798f175-fbfb-4be7-93d9-aa732a2d3a00",
   "metadata": {},
   "outputs": [],
   "source": []
  }
 ],
 "metadata": {
  "kernelspec": {
   "display_name": "Python 3",
   "language": "python",
   "name": "python3"
  },
  "language_info": {
   "codemirror_mode": {
    "name": "ipython",
    "version": 3
   },
   "file_extension": ".py",
   "mimetype": "text/x-python",
   "name": "python",
   "nbconvert_exporter": "python",
   "pygments_lexer": "ipython3",
   "version": "3.9.5"
  }
 },
 "nbformat": 4,
 "nbformat_minor": 5
}
