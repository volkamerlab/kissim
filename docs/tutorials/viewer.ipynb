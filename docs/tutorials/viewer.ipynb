{
 "cells": [
  {
   "cell_type": "markdown",
   "id": "da373485-8ac2-46dd-9c06-7670cb481179",
   "metadata": {},
   "source": [
    "# View fingerprint in 3D"
   ]
  },
  {
   "cell_type": "code",
   "execution_count": null,
   "id": "65453ccb-eca1-4bef-af03-d729e1231f47",
   "metadata": {},
   "outputs": [],
   "source": [
    "%load_ext autoreload\n",
    "%autoreload 2"
   ]
  },
  {
   "cell_type": "markdown",
   "id": "defcbf99-a547-47e3-8a70-b4b96e2e0f9c",
   "metadata": {},
   "source": [
    "## Structure"
   ]
  },
  {
   "cell_type": "code",
   "execution_count": null,
   "id": "14cf1e13-4f8c-4a2d-83c6-60e31abd8a2e",
   "metadata": {},
   "outputs": [],
   "source": [
    "from kissim.viewer import StructureViewer"
   ]
  },
  {
   "cell_type": "code",
   "execution_count": null,
   "id": "cf8ea17c-2b91-4d43-999a-c3e00c9b1f04",
   "metadata": {},
   "outputs": [],
   "source": [
    "viewer1 = StructureViewer.from_structure_klifs_id(3835)"
   ]
  },
  {
   "cell_type": "code",
   "execution_count": null,
   "id": "5dc29637-afb7-43d3-8ecc-c590131e7e10",
   "metadata": {},
   "outputs": [],
   "source": [
    "viewer1.show()"
   ]
  },
  {
   "cell_type": "markdown",
   "id": "78bbe4f4-1381-4715-8954-9b5086c2059f",
   "metadata": {},
   "source": [
    "## Kinase"
   ]
  },
  {
   "cell_type": "code",
   "execution_count": null,
   "id": "602f8b44-738e-41ea-914b-1dfd3f37add4",
   "metadata": {},
   "outputs": [],
   "source": [
    "from kissim.viewer import KinaseViewer"
   ]
  },
  {
   "cell_type": "code",
   "execution_count": null,
   "id": "ff4ec426-446d-4ce6-b9f5-fccd4184e0bc",
   "metadata": {},
   "outputs": [],
   "source": [
    "viewer2 = KinaseViewer.from_kinase_klifs_id(251)"
   ]
  },
  {
   "cell_type": "code",
   "execution_count": null,
   "id": "70ff21d6-4c82-4959-8fe8-edec719f9637",
   "metadata": {},
   "outputs": [],
   "source": [
    "viewer2.show()"
   ]
  },
  {
   "cell_type": "markdown",
   "id": "7324f078-8c29-480e-a58b-4c68760e1f30",
   "metadata": {},
   "source": [
    "## Structure pair difference"
   ]
  },
  {
   "cell_type": "code",
   "execution_count": null,
   "id": "ac91e72b-3e82-4c43-bd4a-0ff14ebcb452",
   "metadata": {},
   "outputs": [],
   "source": [
    "from kissim.viewer import StructurePairViewer"
   ]
  },
  {
   "cell_type": "markdown",
   "id": "fb348d8d-617a-49e8-bfcb-f1a12be491c5",
   "metadata": {},
   "source": [
    "### Dissimilar kinases"
   ]
  },
  {
   "cell_type": "code",
   "execution_count": null,
   "id": "1f440989-0024-4e25-9b8d-da21b08c6bdd",
   "metadata": {},
   "outputs": [],
   "source": [
    "viewer3 = StructurePairViewer.from_structure_klifs_ids(842, 9228)"
   ]
  },
  {
   "cell_type": "code",
   "execution_count": null,
   "id": "57f89074-88e6-46fb-bb6f-3fe246a07008",
   "metadata": {},
   "outputs": [],
   "source": [
    "viewer3.show()"
   ]
  },
  {
   "cell_type": "markdown",
   "id": "aef33976-a9fd-433c-8072-e63df5485ab3",
   "metadata": {},
   "source": [
    "### Similar kinases"
   ]
  },
  {
   "cell_type": "code",
   "execution_count": null,
   "id": "b85c4673-e71c-463d-8b84-3362b44487c4",
   "metadata": {},
   "outputs": [],
   "source": [
    "viewer4 = StructurePairViewer.from_structure_klifs_ids(783, 813)"
   ]
  },
  {
   "cell_type": "code",
   "execution_count": null,
   "id": "8c253c57-0e60-4323-8c67-b63e58c0e6d8",
   "metadata": {},
   "outputs": [],
   "source": [
    "viewer4.show()"
   ]
  },
  {
   "cell_type": "markdown",
   "id": "8b1d4f6a-e56a-4cbb-adaa-d479988c9f5f",
   "metadata": {},
   "source": [
    "## Appendix"
   ]
  },
  {
   "cell_type": "code",
   "execution_count": null,
   "id": "486e22bd-5cce-4800-bdaa-aaf5929cfedc",
   "metadata": {},
   "outputs": [],
   "source": [
    "from matplotlib import cm, colors\n",
    "import matplotlib.pyplot as plt"
   ]
  },
  {
   "cell_type": "code",
   "execution_count": null,
   "id": "edd518b2-7107-40b5-85c5-bb8f301e0e0d",
   "metadata": {},
   "outputs": [],
   "source": [
    "import numpy as np"
   ]
  },
  {
   "cell_type": "code",
   "execution_count": null,
   "id": "f110f57d-9959-43f1-8fc1-ee4fc2957e23",
   "metadata": {},
   "outputs": [],
   "source": [
    "def colorbar(norm, cmap):\n",
    "    fig, ax = plt.subplots(figsize=(6, 1))\n",
    "    fig.subplots_adjust(bottom=0.5)\n",
    "\n",
    "    fig.colorbar(\n",
    "        cm.ScalarMappable(norm=norm, cmap=cmap),\n",
    "        cax=ax,\n",
    "        orientation=\"horizontal\",\n",
    "        label=\"ba\",\n",
    "    )"
   ]
  },
  {
   "cell_type": "code",
   "execution_count": null,
   "id": "68ffb5c9-24d5-4d8b-bceb-11b5ad3a80a0",
   "metadata": {},
   "outputs": [],
   "source": [
    "data = [1.0, 3.0, 0.0, np.nan]"
   ]
  },
  {
   "cell_type": "code",
   "execution_count": null,
   "id": "250fbbbd-4159-4dac-abd5-90b36cb784d6",
   "metadata": {},
   "outputs": [],
   "source": [
    "# Discrete and sequential\n",
    "norm = colors.NoNorm(vmin=min(data), vmax=max(data))\n",
    "data_normed = norm(data)\n",
    "\n",
    "cmap = cm.get_cmap(\"viridis\", 4)\n",
    "print(data)\n",
    "print(data_normed)\n",
    "print([cmap(i) for i in data_normed])\n",
    "colorbar(norm, cmap)"
   ]
  },
  {
   "cell_type": "code",
   "execution_count": null,
   "id": "83e6d315-172c-4edf-9e62-a1c3ea19c31d",
   "metadata": {},
   "outputs": [],
   "source": [
    "# Continuous and divergent\n",
    "norm = colors.Normalize(vmin=min(data), vmax=max(data))\n",
    "data_normed = norm(data)\n",
    "\n",
    "cmap = cm.get_cmap(\"viridis\")\n",
    "print(data)\n",
    "print(data_normed)\n",
    "print([cmap(i) for i in data_normed])\n",
    "colorbar(norm, cmap)"
   ]
  },
  {
   "cell_type": "code",
   "execution_count": null,
   "id": "809815f2-aa8a-437e-9fd4-883300c4c3ae",
   "metadata": {},
   "outputs": [],
   "source": [
    "# Continuous and sequential\n",
    "norm = colors.TwoSlopeNorm(vmin=0.0, vcenter=2.0, vmax=3.0)\n",
    "data_normed = norm(data)\n",
    "\n",
    "cmap = cm.get_cmap(\"PiYG\")\n",
    "print(data)\n",
    "print(data_normed)\n",
    "print([cmap(i) for i in data_normed])\n",
    "colorbar(norm, cmap)"
   ]
  }
 ],
 "metadata": {
  "kernelspec": {
   "display_name": "Python 3",
   "language": "python",
   "name": "python3"
  },
  "language_info": {
   "codemirror_mode": {
    "name": "ipython",
    "version": 3
   },
   "file_extension": ".py",
   "mimetype": "text/x-python",
   "name": "python",
   "nbconvert_exporter": "python",
   "pygments_lexer": "ipython3",
   "version": "3.9.5"
  }
 },
 "nbformat": 4,
 "nbformat_minor": 5
}
