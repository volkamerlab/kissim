{
 "cells": [
  {
   "cell_type": "markdown",
   "id": "da373485-8ac2-46dd-9c06-7670cb481179",
   "metadata": {},
   "source": [
    "# View fingerprint in 3D"
   ]
  },
  {
   "cell_type": "code",
   "execution_count": null,
   "id": "65453ccb-eca1-4bef-af03-d729e1231f47",
   "metadata": {},
   "outputs": [],
   "source": [
    "%load_ext autoreload\n",
    "%autoreload 2"
   ]
  },
  {
   "cell_type": "markdown",
   "id": "defcbf99-a547-47e3-8a70-b4b96e2e0f9c",
   "metadata": {},
   "source": [
    "## Structure"
   ]
  },
  {
   "cell_type": "code",
   "execution_count": null,
   "id": "14cf1e13-4f8c-4a2d-83c6-60e31abd8a2e",
   "metadata": {},
   "outputs": [],
   "source": [
    "from kissim.viewer import StructureViewer"
   ]
  },
  {
   "cell_type": "code",
   "execution_count": null,
   "id": "cf8ea17c-2b91-4d43-999a-c3e00c9b1f04",
   "metadata": {},
   "outputs": [],
   "source": [
    "viewer1 = StructureViewer.from_structure_klifs_id(3835)"
   ]
  },
  {
   "cell_type": "code",
   "execution_count": null,
   "id": "5dc29637-afb7-43d3-8ecc-c590131e7e10",
   "metadata": {},
   "outputs": [],
   "source": [
    "viewer1.show()"
   ]
  },
  {
   "cell_type": "markdown",
   "id": "78bbe4f4-1381-4715-8954-9b5086c2059f",
   "metadata": {},
   "source": [
    "## Kinase"
   ]
  },
  {
   "cell_type": "code",
   "execution_count": null,
   "id": "602f8b44-738e-41ea-914b-1dfd3f37add4",
   "metadata": {},
   "outputs": [],
   "source": [
    "from kissim.viewer import KinaseViewer"
   ]
  },
  {
   "cell_type": "code",
   "execution_count": null,
   "id": "ff4ec426-446d-4ce6-b9f5-fccd4184e0bc",
   "metadata": {},
   "outputs": [],
   "source": [
    "viewer2 = KinaseViewer.from_kinase_klifs_id(251)"
   ]
  },
  {
   "cell_type": "code",
   "execution_count": null,
   "id": "70ff21d6-4c82-4959-8fe8-edec719f9637",
   "metadata": {},
   "outputs": [],
   "source": [
    "viewer2.show()"
   ]
  },
  {
   "cell_type": "markdown",
   "id": "7324f078-8c29-480e-a58b-4c68760e1f30",
   "metadata": {},
   "source": [
    "## Structure pair difference"
   ]
  },
  {
   "cell_type": "code",
   "execution_count": null,
   "id": "ac91e72b-3e82-4c43-bd4a-0ff14ebcb452",
   "metadata": {},
   "outputs": [],
   "source": [
    "from kissim.viewer import StructurePairViewer"
   ]
  },
  {
   "cell_type": "markdown",
   "id": "fb348d8d-617a-49e8-bfcb-f1a12be491c5",
   "metadata": {},
   "source": [
    "### Dissimilar kinases"
   ]
  },
  {
   "cell_type": "code",
   "execution_count": null,
   "id": "1f440989-0024-4e25-9b8d-da21b08c6bdd",
   "metadata": {},
   "outputs": [],
   "source": [
    "viewer3 = StructurePairViewer.from_structure_klifs_ids(842, 9228)"
   ]
  },
  {
   "cell_type": "code",
   "execution_count": null,
   "id": "57f89074-88e6-46fb-bb6f-3fe246a07008",
   "metadata": {},
   "outputs": [],
   "source": [
    "viewer3.show()"
   ]
  },
  {
   "cell_type": "markdown",
   "id": "aef33976-a9fd-433c-8072-e63df5485ab3",
   "metadata": {},
   "source": [
    "### Similar kinases"
   ]
  },
  {
   "cell_type": "code",
   "execution_count": null,
   "id": "b85c4673-e71c-463d-8b84-3362b44487c4",
   "metadata": {},
   "outputs": [],
   "source": [
    "viewer4 = StructurePairViewer.from_structure_klifs_ids(783, 813)"
   ]
  },
  {
   "cell_type": "code",
   "execution_count": null,
   "id": "8c253c57-0e60-4323-8c67-b63e58c0e6d8",
   "metadata": {},
   "outputs": [],
   "source": [
    "viewer4.show()"
   ]
  }
 ],
 "metadata": {
  "kernelspec": {
   "display_name": "Python 3",
   "language": "python",
   "name": "python3"
  },
  "language_info": {
   "codemirror_mode": {
    "name": "ipython",
    "version": 3
   },
   "file_extension": ".py",
   "mimetype": "text/x-python",
   "name": "python",
   "nbconvert_exporter": "python",
   "pygments_lexer": "ipython3",
   "version": "3.9.5"
  }
 },
 "nbformat": 4,
 "nbformat_minor": 5
}
