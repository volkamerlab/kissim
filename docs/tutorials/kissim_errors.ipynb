{
 "cells": [
  {
   "cell_type": "code",
   "execution_count": 1,
   "id": "b256afca-1323-4382-8140-21cfc9ed4e5c",
   "metadata": {},
   "outputs": [],
   "source": [
    "%load_ext autoreload\n",
    "%autoreload 2"
   ]
  },
  {
   "cell_type": "code",
   "execution_count": 2,
   "id": "8809aee4-b626-4b6f-9db7-90356cbd755c",
   "metadata": {},
   "outputs": [
    {
     "data": {
      "application/vnd.jupyter.widget-view+json": {
       "model_id": "b281cb993d714029be8d468147e46128",
       "version_major": 2,
       "version_minor": 0
      },
      "text/plain": []
     },
     "metadata": {},
     "output_type": "display_data"
    }
   ],
   "source": [
    "import logging\n",
    "from pathlib import Path\n",
    "\n",
    "import pandas as pd\n",
    "from opencadd.databases.klifs import setup_remote, setup_local\n",
    "\n",
    "from kissim.encoding import Fingerprint, FingerprintGenerator"
   ]
  },
  {
   "cell_type": "code",
   "execution_count": 3,
   "id": "7c196c66-ee11-46fe-808b-3e6aed4daa3e",
   "metadata": {},
   "outputs": [],
   "source": [
    "logger_opencadd = logging.getLogger(\"opencadd\")\n",
    "logger_opencadd.setLevel(logging.INFO)\n",
    "formatter = logging.Formatter(logging.BASIC_FORMAT)\n",
    "s_handler = logging.StreamHandler()\n",
    "s_handler.setFormatter(formatter)\n",
    "logger_opencadd.addHandler(s_handler)"
   ]
  },
  {
   "cell_type": "raw",
   "id": "2ac3f96b-ab99-4962-9e86-3ca7acdc3072",
   "metadata": {},
   "source": [
    "!pip install https://github.com/volkamerlab/opencadd/archive/update-klifs-ids.zip"
   ]
  },
  {
   "cell_type": "markdown",
   "id": "19b3199d-f7ec-491c-9296-1ed05f529540",
   "metadata": {},
   "source": [
    "## Extract new structures"
   ]
  },
  {
   "cell_type": "code",
   "execution_count": 4,
   "id": "54dbf256-86de-42b1-ab99-136ce23238cf",
   "metadata": {},
   "outputs": [],
   "source": [
    "klifs_ids1 = pd.read_csv(\n",
    "    \"https://github.com/volkamerlab/opencadd/raw/master/opencadd/data/klifs_ids.20210115.csv.gz\"\n",
    ")\n",
    "klifs_ids2 = pd.read_csv(\n",
    "    \"https://github.com/volkamerlab/opencadd/raw/master/opencadd/data/klifs_ids.20210701.csv.gz\"\n",
    ")"
   ]
  },
  {
   "cell_type": "code",
   "execution_count": 5,
   "id": "1be22031-0f0a-4ade-88b5-84c9063a56a5",
   "metadata": {},
   "outputs": [],
   "source": [
    "diff = list(\n",
    "    set(klifs_ids2[\"structure.klifs_id\"].to_list())\n",
    "    - set(klifs_ids1[\"structure.klifs_id\"].to_list())\n",
    ")"
   ]
  },
  {
   "cell_type": "code",
   "execution_count": 6,
   "id": "19db395b-0bdf-4750-af76-2e915637fbed",
   "metadata": {},
   "outputs": [
    {
     "name": "stdout",
     "output_type": "stream",
     "text": [
      "Number of new structures: 531\n"
     ]
    }
   ],
   "source": [
    "print(f\"Number of new structures: {len(diff)}\")"
   ]
  },
  {
   "cell_type": "code",
   "execution_count": 7,
   "id": "82650467-0c4a-444c-8ba0-5bf9fb047430",
   "metadata": {},
   "outputs": [
    {
     "name": "stdout",
     "output_type": "stream",
     "text": [
      "KLIFS ID numbering consecutive?\n"
     ]
    },
    {
     "data": {
      "text/plain": [
       "True"
      ]
     },
     "execution_count": 7,
     "metadata": {},
     "output_type": "execute_result"
    }
   ],
   "source": [
    "print(\"KLIFS ID numbering consecutive?\")\n",
    "len(diff) == (diff[-1] - diff[0] + 1)"
   ]
  },
  {
   "cell_type": "code",
   "execution_count": 8,
   "id": "f8573130-89cb-4b88-b471-35ae8c1e49bd",
   "metadata": {},
   "outputs": [
    {
     "name": "stdout",
     "output_type": "stream",
     "text": [
      "Structures with IDs from 13232 are new.\n"
     ]
    }
   ],
   "source": [
    "print(f\"Structures with IDs from {diff[0]} are new.\")"
   ]
  },
  {
   "cell_type": "markdown",
   "id": "8d3da2eb-9dc4-42a0-9a24-64242bb3df64",
   "metadata": {},
   "source": [
    "## Problematic structures"
   ]
  },
  {
   "cell_type": "code",
   "execution_count": 9,
   "id": "c1f02d7c-0843-4e01-9b5e-f3d37375c8a0",
   "metadata": {},
   "outputs": [],
   "source": [
    "structure_klifs_ids_io = [1243, 13623, 13625, 13626, 13624]\n",
    "structure_klifs_ids_encoding = [13556]\n",
    "structure_klifs_ids = structure_klifs_ids_io + structure_klifs_ids_encoding"
   ]
  },
  {
   "cell_type": "markdown",
   "id": "6c71cd51-b9df-4a5b-ba9a-73c0cc74cb41",
   "metadata": {},
   "source": [
    "Why is 1243 a problem now?"
   ]
  },
  {
   "cell_type": "code",
   "execution_count": 10,
   "id": "4e64c26a-d49f-49f5-ae6d-63cf976f3c01",
   "metadata": {},
   "outputs": [
    {
     "data": {
      "text/html": [
       "<div>\n",
       "<style scoped>\n",
       "    .dataframe tbody tr th:only-of-type {\n",
       "        vertical-align: middle;\n",
       "    }\n",
       "\n",
       "    .dataframe tbody tr th {\n",
       "        vertical-align: top;\n",
       "    }\n",
       "\n",
       "    .dataframe thead th {\n",
       "        text-align: right;\n",
       "    }\n",
       "</style>\n",
       "<table border=\"1\" class=\"dataframe\">\n",
       "  <thead>\n",
       "    <tr style=\"text-align: right;\">\n",
       "      <th></th>\n",
       "      <th>structure.klifs_id</th>\n",
       "      <th>structure.pdb_id</th>\n",
       "      <th>structure.alternate_model</th>\n",
       "      <th>structure.chain</th>\n",
       "      <th>kinase.klifs_name</th>\n",
       "      <th>kinase.klifs_id</th>\n",
       "      <th>ligand.expo_id</th>\n",
       "    </tr>\n",
       "  </thead>\n",
       "  <tbody>\n",
       "    <tr>\n",
       "      <th>1219</th>\n",
       "      <td>1243</td>\n",
       "      <td>2ogv</td>\n",
       "      <td>-</td>\n",
       "      <td>A</td>\n",
       "      <td>PDGFRb</td>\n",
       "      <td>453</td>\n",
       "      <td>-</td>\n",
       "    </tr>\n",
       "  </tbody>\n",
       "</table>\n",
       "</div>"
      ],
      "text/plain": [
       "      structure.klifs_id structure.pdb_id structure.alternate_model  \\\n",
       "1219                1243             2ogv                         -   \n",
       "\n",
       "     structure.chain kinase.klifs_name  kinase.klifs_id ligand.expo_id  \n",
       "1219               A            PDGFRb              453              -  "
      ]
     },
     "execution_count": 10,
     "metadata": {},
     "output_type": "execute_result"
    }
   ],
   "source": [
    "klifs_ids1[klifs_ids1[\"structure.klifs_id\"] == 1243]"
   ]
  },
  {
   "cell_type": "code",
   "execution_count": 11,
   "id": "46f1b2fe-f6d3-46b1-8aee-4855284d583d",
   "metadata": {},
   "outputs": [
    {
     "data": {
      "text/html": [
       "<div>\n",
       "<style scoped>\n",
       "    .dataframe tbody tr th:only-of-type {\n",
       "        vertical-align: middle;\n",
       "    }\n",
       "\n",
       "    .dataframe tbody tr th {\n",
       "        vertical-align: top;\n",
       "    }\n",
       "\n",
       "    .dataframe thead th {\n",
       "        text-align: right;\n",
       "    }\n",
       "</style>\n",
       "<table border=\"1\" class=\"dataframe\">\n",
       "  <thead>\n",
       "    <tr style=\"text-align: right;\">\n",
       "      <th></th>\n",
       "      <th>structure.klifs_id</th>\n",
       "      <th>structure.pdb_id</th>\n",
       "      <th>structure.alternate_model</th>\n",
       "      <th>structure.chain</th>\n",
       "      <th>kinase.klifs_name</th>\n",
       "      <th>kinase.klifs_id</th>\n",
       "      <th>ligand.expo_id</th>\n",
       "    </tr>\n",
       "  </thead>\n",
       "  <tbody>\n",
       "    <tr>\n",
       "      <th>1219</th>\n",
       "      <td>1243</td>\n",
       "      <td>2ogv</td>\n",
       "      <td>-</td>\n",
       "      <td>A</td>\n",
       "      <td>FMS</td>\n",
       "      <td>449</td>\n",
       "      <td>-</td>\n",
       "    </tr>\n",
       "  </tbody>\n",
       "</table>\n",
       "</div>"
      ],
      "text/plain": [
       "      structure.klifs_id structure.pdb_id structure.alternate_model  \\\n",
       "1219                1243             2ogv                         -   \n",
       "\n",
       "     structure.chain kinase.klifs_name  kinase.klifs_id ligand.expo_id  \n",
       "1219               A               FMS              449              -  "
      ]
     },
     "execution_count": 11,
     "metadata": {},
     "output_type": "execute_result"
    }
   ],
   "source": [
    "klifs_ids2[klifs_ids2[\"structure.klifs_id\"] == 1243]"
   ]
  },
  {
   "cell_type": "markdown",
   "id": "bbaa2a30-7c34-4e29-91de-f0eeb3da7c77",
   "metadata": {},
   "source": [
    "## Local session"
   ]
  },
  {
   "cell_type": "code",
   "execution_count": 12,
   "id": "0de54cd4-ff1d-4ccf-a898-999543b9ea1f",
   "metadata": {},
   "outputs": [
    {
     "name": "stderr",
     "output_type": "stream",
     "text": [
      "INFO:opencadd.databases.klifs.api:Set up local session...\n",
      "INFO:opencadd.databases.klifs.local:Load overview.csv...\n",
      "INFO:opencadd.databases.klifs.local:Load KLIFS_export.csv...\n",
      "INFO:opencadd.databases.klifs.local:Merge both csv files...\n",
      "INFO:opencadd.databases.klifs.local:Add paths to coordinate folders to structures...\n",
      "INFO:opencadd.databases.klifs.local:Add KLIFS IDs to structures (uses remote since not available locally!)...\n",
      "INFO:opencadd.databases.klifs.api:Local session is ready!\n"
     ]
    }
   ],
   "source": [
    "local = setup_local(\n",
    "    \"/home/dominique/Documents/GitHub/kissim_app/data/external/structures/20210630_KLIFS_HUMAN/\"\n",
    ")"
   ]
  },
  {
   "cell_type": "code",
   "execution_count": 13,
   "id": "68dbb932-cb32-40a7-a8c8-9838f0356dfb",
   "metadata": {},
   "outputs": [
    {
     "name": "stderr",
     "output_type": "stream",
     "text": [
      "The following structure could not be loaded into kissim: 1243: Length of values (1284) does not match length of index (1313)\n",
      "1243: Empty fingerprint (data unaccessible).\n",
      "The following structure could not be loaded into kissim: 13623: Length of values (991) does not match length of index (1461)\n",
      "13623: Empty fingerprint (data unaccessible).\n",
      "The following structure could not be loaded into kissim: 13625: Length of values (991) does not match length of index (1461)\n",
      "13625: Empty fingerprint (data unaccessible).\n",
      "The following structure could not be loaded into kissim: 13626: Length of values (562) does not match length of index (1367)\n",
      "13626: Empty fingerprint (data unaccessible).\n",
      "The following structure could not be loaded into kissim: 13624: Length of values (991) does not match length of index (1461)\n",
      "13624: Empty fingerprint (data unaccessible).\n",
      "INFO:opencadd.structure.pocket.base:Pocket None (set pocket residues): The following input residues PDB IDs were assigned to the value None because they cannot be cast to an integer (residue PDB ID, residue index): [('_', 6), ('_', 7), ('_', 8), ('_', 9), ('_', 83), ('_', 84), ('_', 85)]\n",
      "INFO:opencadd.structure.pocket.base:Pocket 13556 (set pocket residues): The following input residues PDB IDs were assigned to the value None because they cannot be cast to an integer (residue PDB ID, residue index): [(None, 6), (None, 7), (None, 8), (None, 9), (None, 83), (None, 84), (None, 85)]\n",
      "INFO:opencadd.structure.pocket.core:Pocket 13556: Missing pocket CA atoms. The pocket center is calculated based on 79 CA atoms (total number of pocket residues is 85).\n",
      "Fingerprint generation throw error for 13556:  '2 residues were found, but must be 1 or 0.'\n"
     ]
    }
   ],
   "source": [
    "f_local = FingerprintGenerator.from_structure_klifs_ids(\n",
    "    structure_klifs_ids, klifs_session=local\n",
    ")"
   ]
  },
  {
   "cell_type": "code",
   "execution_count": 14,
   "id": "6b5aef39-41d8-4a1d-869b-19c7276c886a",
   "metadata": {},
   "outputs": [
    {
     "data": {
      "text/plain": [
       "{}"
      ]
     },
     "execution_count": 14,
     "metadata": {},
     "output_type": "execute_result"
    }
   ],
   "source": [
    "f_local.data"
   ]
  },
  {
   "cell_type": "markdown",
   "id": "e770f8f1-c71f-461d-92e2-6a1c5c9c6b6d",
   "metadata": {},
   "source": [
    "## Remote session"
   ]
  },
  {
   "cell_type": "code",
   "execution_count": 15,
   "id": "d4e94e0f-350c-47f0-8e4f-0495dfb0d955",
   "metadata": {},
   "outputs": [
    {
     "name": "stderr",
     "output_type": "stream",
     "text": [
      "INFO:opencadd.databases.klifs.api:Set up remote session...\n",
      "INFO:opencadd.databases.klifs.api:Remote session is ready!\n"
     ]
    }
   ],
   "source": [
    "remote = setup_remote()"
   ]
  },
  {
   "cell_type": "code",
   "execution_count": 16,
   "id": "20355e09-4111-4811-b383-21a773af2043",
   "metadata": {},
   "outputs": [
    {
     "name": "stderr",
     "output_type": "stream",
     "text": [
      "INFO:opencadd.structure.pocket.base:Pocket None (set pocket residues): The following input residues PDB IDs were assigned to the value None because they cannot be cast to an integer (residue PDB ID, residue index): [('_', 6), ('_', 7), ('_', 8), ('_', 9), ('_', 83), ('_', 84), ('_', 85)]\n",
      "INFO:opencadd.structure.pocket.base:Pocket 13556 (set pocket residues): The following input residues PDB IDs were assigned to the value None because they cannot be cast to an integer (residue PDB ID, residue index): [(None, 6), (None, 7), (None, 8), (None, 9), (None, 83), (None, 84), (None, 85)]\n",
      "INFO:opencadd.structure.pocket.core:Pocket 13556: Missing pocket CA atoms. The pocket center is calculated based on 79 CA atoms (total number of pocket residues is 85).\n",
      "Fingerprint generation throw error for 13556:  '2 residues were found, but must be 1 or 0.'\n"
     ]
    }
   ],
   "source": [
    "f_remote = FingerprintGenerator.from_structure_klifs_ids(\n",
    "    structure_klifs_ids, klifs_session=remote\n",
    ")"
   ]
  },
  {
   "cell_type": "code",
   "execution_count": 17,
   "id": "4f33fb84-b744-4708-b8e7-72ec72b1e808",
   "metadata": {},
   "outputs": [
    {
     "data": {
      "text/plain": [
       "{1243: <kissim.encoding.fingerprint.Fingerprint at 0x7fb1fab3e040>,\n",
       " 13623: <kissim.encoding.fingerprint.Fingerprint at 0x7fb1fb5ee580>,\n",
       " 13625: <kissim.encoding.fingerprint.Fingerprint at 0x7fb1fb851c70>,\n",
       " 13626: <kissim.encoding.fingerprint.Fingerprint at 0x7fb1fb615700>,\n",
       " 13624: <kissim.encoding.fingerprint.Fingerprint at 0x7fb1fb851b20>}"
      ]
     },
     "execution_count": 17,
     "metadata": {},
     "output_type": "execute_result"
    }
   ],
   "source": [
    "f_remote.data"
   ]
  }
 ],
 "metadata": {
  "kernelspec": {
   "display_name": "Python 3",
   "language": "python",
   "name": "python3"
  },
  "language_info": {
   "codemirror_mode": {
    "name": "ipython",
    "version": 3
   },
   "file_extension": ".py",
   "mimetype": "text/x-python",
   "name": "python",
   "nbconvert_exporter": "python",
   "pygments_lexer": "ipython3",
   "version": "3.9.5"
  },
  "widgets": {
   "application/vnd.jupyter.widget-state+json": {
    "state": {
     "b281cb993d714029be8d468147e46128": {
      "model_module": "nglview-js-widgets",
      "model_module_version": "3.0.1",
      "model_name": "ColormakerRegistryModel",
      "state": {
       "_msg_ar": [],
       "_msg_q": [],
       "_ready": true,
       "layout": "IPY_MODEL_c664b8a4be7944ae89e1225a13b247f6"
      }
     },
     "c664b8a4be7944ae89e1225a13b247f6": {
      "model_module": "@jupyter-widgets/base",
      "model_module_version": "1.2.0",
      "model_name": "LayoutModel",
      "state": {}
     }
    },
    "version_major": 2,
    "version_minor": 0
   }
  }
 },
 "nbformat": 4,
 "nbformat_minor": 5
}
